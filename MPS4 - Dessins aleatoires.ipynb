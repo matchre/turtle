{
 "cells": [
  {
   "cell_type": "markdown",
   "metadata": {},
   "source": [
    "# Des dessins aléatoires avec la tortue"
   ]
  },
  {
   "cell_type": "markdown",
   "metadata": {},
   "source": [
    "# Les nombres aléatoires"
   ]
  },
  {
   "cell_type": "markdown",
   "metadata": {},
   "source": [
    "En probabilité, pour simuler le hasard, nous utilisons des **nombres aléatoires**. Ce sont des nombres calculés par la machine dont on ne peut prédire à l'avance ce qu'ils seront."
   ]
  },
  {
   "cell_type": "markdown",
   "metadata": {},
   "source": [
    "## Nombre aléatoire entre 0 et 1"
   ]
  },
  {
   "cell_type": "markdown",
   "metadata": {},
   "source": [
    "Dans ce classeur, nous utiliserons des nombres décimaux aléatoires entre 0 et 1. Pour les calculer, c'est facile : regardez plutôt.\n",
    "\n",
    "N'hésitez pas à évaluer plusieurs fois la cellule ci-dessous pour constater que le résultat est toujours différent !"
   ]
  },
  {
   "cell_type": "code",
   "execution_count": 1,
   "metadata": {
    "collapsed": false
   },
   "outputs": [
    {
     "name": "stdout",
     "output_type": "stream",
     "text": [
      "0.9721882322059984\n"
     ]
    }
   ],
   "source": [
    "from random import * # On importe les fonctions de hasard\n",
    "\n",
    "# On calcule un nombre aléatoire qu'on stocke dans la variable nombre\n",
    "nombre = random()\n",
    "\n",
    "print(nombre)"
   ]
  },
  {
   "cell_type": "markdown",
   "metadata": {},
   "source": [
    "### A vous de jouer"
   ]
  },
  {
   "cell_type": "markdown",
   "metadata": {},
   "source": [
    "Pour vous assurer que les nombres choisis sont bien différents, écrire un programme dans la cellule ci-dessous affichant 20 nombres aléatoires."
   ]
  },
  {
   "cell_type": "code",
   "execution_count": null,
   "metadata": {
    "collapsed": false
   },
   "outputs": [],
   "source": [
    "# Taper votre programme ici\n"
   ]
  },
  {
   "cell_type": "markdown",
   "metadata": {},
   "source": [
    "# Application à la tortue"
   ]
  },
  {
   "cell_type": "markdown",
   "metadata": {},
   "source": [
    "Reprenons l'exemple ou notre tortue trace un carré, mais cette fois-ci, le nombre de pas de notre tortue sera un nombre aléatoire entre 1 et 100.\n",
    "\n",
    "Comment fabriquer un tel nombre ? regardez c'est  tout simple."
   ]
  },
  {
   "cell_type": "code",
   "execution_count": null,
   "metadata": {
    "collapsed": false
   },
   "outputs": [],
   "source": [
    "from random import *\n",
    "\n",
    "u=random() * 100\n",
    "\n",
    "print(\"Nombre aléatoire entre 1 et 100 : \",u)"
   ]
  },
  {
   "cell_type": "markdown",
   "metadata": {},
   "source": [
    "Appliquons ce procédé à notre tortue :"
   ]
  },
  {
   "cell_type": "code",
   "execution_count": null,
   "metadata": {
    "collapsed": false
   },
   "outputs": [],
   "source": [
    "from turtle import *\n",
    "from random import *\n",
    "\n",
    "speed(0) # on transforme notre tortue en lièvre :)\n",
    "shape('turtle') # On donne une forme plus sympathique\n",
    "\n",
    "for i in range(4):\n",
    "    u=random() * 100\n",
    "    forward(u)\n",
    "    left(90)\n",
    "    \n",
    "exitonclick()"
   ]
  },
  {
   "cell_type": "markdown",
   "metadata": {},
   "source": [
    "## A vous de jouer"
   ]
  },
  {
   "cell_type": "markdown",
   "metadata": {},
   "source": [
    "Comme vous le voyez, notre carré n'est plus carré. Vous allez maintenant modifier ce programme pour élaborer des figures plus complexes. Pour cela vous allez\n",
    "- Mettre un nombre de pas aléatoire entre 1 et 100\n",
    "- faire tourner notre tortue 30 fois à gauche au lieu de 4 comme précédemment\n",
    "- faire varier l'angle aléatoirement entre 0 et 90"
   ]
  },
  {
   "cell_type": "code",
   "execution_count": null,
   "metadata": {
    "collapsed": false
   },
   "outputs": [],
   "source": [
    "from turtle import *\n",
    "from random import *\n",
    "\n",
    "# Ecrivez votre programme ici\n",
    "    \n",
    "exitonclick()"
   ]
  },
  {
   "cell_type": "markdown",
   "metadata": {},
   "source": [
    "En exécutant plusieurs fois la cellule, vous verrez que le dessin change à chaque fois ! Bon c'est un peu du gribouillage. Nous allons tenter de dessiner des motifs plus géométriques."
   ]
  },
  {
   "cell_type": "markdown",
   "metadata": {},
   "source": [
    "## Découverte des tests Si ... Alors ... Sinon"
   ]
  },
  {
   "cell_type": "markdown",
   "metadata": {},
   "source": [
    "Pour faire des motifs plus géométrique, nous allons donner des ordres plus précis à notre tortue. Voici notre premier algorithme :\n",
    "<PRE>\n",
    "L'unité u est de 10 pas\n",
    "Pour k allant de 0 à 999 Faire\n",
    "    Avancer d'une unité\n",
    "    r est un nombre aléatoire entre 0 et 1\n",
    "    Si r > 0.5 Alors\n",
    "        Tourner à gauche de 90°\n",
    "    Sinon\n",
    "        Tourner à droite de 90°\n",
    "</PRE>\n",
    "\n",
    "Remplacer les \"...\" par ce qui convient dans le programme ci-dessous pour exécuter l'algorithme ci-dessus"
   ]
  },
  {
   "cell_type": "code",
   "execution_count": null,
   "metadata": {
    "collapsed": false
   },
   "outputs": [],
   "source": [
    "from turtle import *\n",
    "from random import *\n",
    "\n",
    "speed(0)\n",
    "shape('turtle') \n",
    "\n",
    "u=...\n",
    "\n",
    "for k in range(...) :\n",
    "    ...\n",
    "    ...\n",
    "    if (...condition...) :\n",
    "        ...instruction si condition est vraie...\n",
    "    else :\n",
    "        ...instruction si condition est fausse...\n",
    "\n",
    "\n",
    "exitonclick()"
   ]
  },
  {
   "cell_type": "markdown",
   "metadata": {},
   "source": [
    "## La tortue ivre ..."
   ]
  },
  {
   "cell_type": "markdown",
   "metadata": {},
   "source": [
    "Dans l'exemple précédent, notre tortue tournait dans tous les sens, repassant régulièrement sur ses pas. Nous allons à présent simuler un autre comportement : celui de la tortue ivre...\n",
    "\n",
    "Notre tortue a anticipé le réveillon de noël et s'est un peu lâchée sur la boisson. Elle doit donc rentrer à pied mais ne marche plus droit. Elle avance régulièrement mais fait un pas à gauche ou à droite de manière aléatoire. On peut imaginer qu'elle avance selon la diagonale d'un carré, un peu comme le pion sur un jeu d'échec.\n",
    "\n",
    "Voici un exemple de parcours que nous allons essayer de simuler :\n",
    "![](http://s25.postimg.org/gnhozh70v/Capture_d_cran_2014_12_16_07_52_53.png)\n",
    "Compléter le programme ci-dessous pour simuler ce comportement en remplaçant les **...** par ce qui convient "
   ]
  },
  {
   "cell_type": "code",
   "execution_count": null,
   "metadata": {
    "collapsed": false
   },
   "outputs": [],
   "source": [
    "from turtle import *\n",
    "from random import *\n",
    "\n",
    "speed(0)\n",
    "shape('turtle') \n",
    "\n",
    "\n",
    "u=20\n",
    "penup()       # On se positionne\n",
    "goto(-300,0)  # sur la gauche de\n",
    "pendown()     # l'écran\n",
    "\n",
    "for k in range(40) :  # On se déplace de 40 pas\n",
    "    r=random()\n",
    "    if (r>0.5) :\n",
    "        right(45)     # On se déplace\n",
    "        forward(u)    # en diagonale\n",
    "        left(45)      # On se remet droit pour le prochain mouvement\n",
    "    else :\n",
    "        ...           # A vous de compléter\n",
    "        ...\n",
    "        ...\n",
    "exitonclick()"
   ]
  },
  {
   "cell_type": "markdown",
   "metadata": {},
   "source": [
    "Notre tortue arrive péniblement à avancer mais s'aperçoit qu'elle a oublié son portable ! elle doit faire demi-tour :@\n",
    "\n",
    "Elle va donc rebrousser chemin avec la même difficulté à avancer. Vous allez donc simuler ce déplacement aller/retour. Pour rendre les choses plus lisibles, vous utiliserez des couleurs : \n",
    "- color('red') pour l'aller\n",
    "- color('green') pour le retour.\n",
    "\n",
    "Voici ce que vous devriez obtenir.\n",
    "\n",
    "***Conseil*** : pour éviter de dupliquer inutilement des lignes de programme, vous utiliserez une ***boucle for*** pour répéter deux fois le trajet. Pensez à faire demi tour à la fin du premier trajet !\n",
    "![](http://s25.postimg.org/ex39bqevj/Capture_d_cran_2014_12_16_08_07_28.png)"
   ]
  },
  {
   "cell_type": "code",
   "execution_count": null,
   "metadata": {
    "collapsed": false
   },
   "outputs": [],
   "source": [
    "from turtle import *\n",
    "from random import *\n",
    "\n",
    "# Ecrire votre programme ici\n",
    "\n",
    "exitonclick()"
   ]
  },
  {
   "cell_type": "markdown",
   "metadata": {},
   "source": [
    "## Et pour les plus forts ..."
   ]
  },
  {
   "cell_type": "markdown",
   "metadata": {},
   "source": [
    "Pauvre tortue, il est bien peu probable qu'elle retrouve son portable. Par chance, elle possède un GPS dans sa *smartwatch* qui lui indique la distance du point de départ à son point d'arrivée. Elle sait donc au final combien de pas la sépare de son point de départ. Vous alez recopier et compléter votre programme pour simuler ce *GPS* et afficher à la fin du parcours le nombre de pas dont elle a dévié.\n",
    "\n",
    "Pour ce faire, vous pourrez utiliser une variable **GPS**\n",
    "- que vous initialiserez à 0\n",
    "- à laquelle vous ajouterez **1** lorsque la tortue se déplace vers le haut\n",
    "- à laquelle vous retrancherez **1** lorsque la tortue se déplace vers le bas\n",
    "\n",
    "***Attention*** : Entre l'aller et le retour, le déplacement vers le bas ne se fait pas forcément pareil ..."
   ]
  },
  {
   "cell_type": "code",
   "execution_count": null,
   "metadata": {
    "collapsed": false
   },
   "outputs": [],
   "source": [
    "from turtle import *\n",
    "from random import *\n",
    "\n",
    "# Ecrire votre programme ici\n",
    "\n",
    "exitonclick()"
   ]
  },
  {
   "cell_type": "markdown",
   "metadata": {},
   "source": [
    "## Et en bonus pour les super forts !"
   ]
  },
  {
   "cell_type": "markdown",
   "metadata": {},
   "source": [
    "La tortue est persévérente. Elle va réessayer de refaire le trajet jusqu'à ce qu'elle retombe à son point de départ. Vous comptabiliserez le nombre total de tentatives avant le succès de l'opération.\n",
    "A chaque nouvelle tentative, la tortue reviendra a son point de départ et l'écran sera effacé avec l'instruction **clear()**\n",
    "\n",
    "On utilisera ici un autre type de boucle : la boucle tant que. En python cela se présente sous cette forme :\n",
    "<PRE>\n",
    "    while condition :\n",
    "        Bloc d'instructions\n",
    "        a éxécuter dans la boucle\n",
    "        </PRE>"
   ]
  },
  {
   "cell_type": "code",
   "execution_count": null,
   "metadata": {
    "collapsed": false
   },
   "outputs": [],
   "source": [
    "from turtle import *\n",
    "from random import *\n",
    "\n",
    "# Ecrire votre programme ici\n",
    "\n",
    "exitonclick()"
   ]
  },
  {
   "cell_type": "markdown",
   "metadata": {},
   "source": [
    "Bingo ! elle a réussi au bout de 19 tentatives !\n",
    "![](http://s25.postimg.org/z5qmxge6n/Capture_d_cran_2014_12_16_08_35_46.png)"
   ]
  },
  {
   "cell_type": "code",
   "execution_count": null,
   "metadata": {
    "collapsed": false
   },
   "outputs": [],
   "source": []
  }
 ],
 "metadata": {
  "kernelspec": {
   "display_name": "Python 3",
   "language": "python",
   "name": "python3"
  },
  "language_info": {
   "codemirror_mode": {
    "name": "ipython",
    "version": 3
   },
   "file_extension": ".py",
   "mimetype": "text/x-python",
   "name": "python",
   "nbconvert_exporter": "python",
   "pygments_lexer": "ipython3",
   "version": "3.5.1"
  }
 },
 "nbformat": 4,
 "nbformat_minor": 0
}
