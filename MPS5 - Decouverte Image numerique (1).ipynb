{
 "metadata": {
  "name": "",
  "signature": "sha256:20d583e5d48a8baa8766af0feb4609757415fec5effeed1a41b981703721e16f"
 },
 "nbformat": 3,
 "nbformat_minor": 0,
 "worksheets": [
  {
   "cells": [
    {
     "cell_type": "heading",
     "level": 1,
     "metadata": {},
     "source": [
      "D\u00e9couverte de l'image num\u00e9rique"
     ]
    },
    {
     "cell_type": "heading",
     "level": 2,
     "metadata": {},
     "source": [
      "Qu'est-ce qu'une image num\u00e9rique ?"
     ]
    },
    {
     "cell_type": "markdown",
     "metadata": {},
     "source": [
      "Une image num\u00e9rique est un ensemble de points de couleur stock\u00e9s dans un fichiers qui repr\u00e9sentent une image. Ces points sont appel\u00e9s ***pixels***. Plus le nombre de pixels est important, plus la ***r\u00e9solution*** de l'image est bonne.\n",
      "\n",
      "Une TV HD poss\u00e8de une r\u00e9solution de ***1920*** pixels de large sur ***1080*** pixels de hauteur. Combien de pixels contient-elle ?"
     ]
    },
    {
     "cell_type": "code",
     "collapsed": false,
     "input": [
      "# Utilisez cette cellule pour faire votre calcul\n"
     ],
     "language": "python",
     "metadata": {},
     "outputs": []
    },
    {
     "cell_type": "heading",
     "level": 2,
     "metadata": {},
     "source": [
      "Zoom sur le pixel"
     ]
    },
    {
     "cell_type": "markdown",
     "metadata": {},
     "source": [
      "Un pixel, pour pouvoir repr\u00e9senter une couleur, est en r\u00e9alit\u00e9 compos\u00e9 de 3 points de couleurs : un rouge, un vert et un bleu. \n",
      "\n",
      "![](http://img1.lesnumeriques.com/article/1547/dalle-tn.jpg)\n",
      "\n",
      "En fonction de l'intensit\u00e9 de chacun de ces points de couleurs primaires, par m\u00e9lange, nous pouvons obtenir pratiquement n'importe quel couleur par le principe de la ***synth\u00e8se additive***."
     ]
    },
    {
     "cell_type": "heading",
     "level": 2,
     "metadata": {},
     "source": [
      "La synth\u00e8se additive"
     ]
    },
    {
     "cell_type": "markdown",
     "metadata": {},
     "source": [
      "A l'aide de la simulation interactive ci-dessous, jouez sur les niveaux de rouge, de vert et de bleu pour obtenir les couleurs demand\u00e9es et compl\u00e9tez les cellules.\n",
      "\n",
      "Validez la cellule suivante pour d\u00e9marrer la simulation."
     ]
    },
    {
     "cell_type": "code",
     "collapsed": false,
     "input": [
      "from IPython.display import IFrame\n",
      "\n",
      "IFrame (\"http://paril.crdp.ac-caen.fr/_PRODUCTIONS/couleur/synthese_additive0.swf\", width=640, height=480)"
     ],
     "language": "python",
     "metadata": {},
     "outputs": []
    },
    {
     "cell_type": "markdown",
     "metadata": {},
     "source": [
      "Pour obtenir du ***bleu ciel*** on r\u00e9alise le m\u00e9lange suivant :\n",
      "- Rouge : 0\n",
      "- Vert : 187\n",
      "- Bleu : 255"
     ]
    },
    {
     "cell_type": "markdown",
     "metadata": {},
     "source": [
      "Pour obtenir du ***rose*** on r\u00e9alise le m\u00e9lange suivant :\n",
      "- Rouge : 255\n",
      "- Vert : 0\n",
      "- Bleu : 255"
     ]
    },
    {
     "cell_type": "markdown",
     "metadata": {},
     "source": [
      "Pour obtenir du ***jaune*** on r\u00e9alise le m\u00e9lange suivant :\n",
      "- Rouge : 255\n",
      "- Vert : 255\n",
      "- Bleu : 0"
     ]
    },
    {
     "cell_type": "markdown",
     "metadata": {},
     "source": [
      "Pour obtenir du ***blanc*** on r\u00e9alise le m\u00e9lange suivant :\n",
      "- Rouge : 255\n",
      "- Vert : 255\n",
      "- Bleu : 255"
     ]
    },
    {
     "cell_type": "markdown",
     "metadata": {},
     "source": [
      "Pour obtenir du ***orange*** on r\u00e9alise le m\u00e9lange suivant :\n",
      "- Rouge : 193\n",
      "- Vert : 69\n",
      "- Bleu : 0"
     ]
    },
    {
     "cell_type": "markdown",
     "metadata": {},
     "source": [
      "Ainsi, vous voyez qu'avec des niveaux de rouge, vert et bleu variant de 0 \u00e0 255, on peut obtenir \u00e9norm\u00e9ment de couleurs diff\u00e9rences. Fa\u00eetes le calcul : combien de couleurs diff\u00e9rentes est-il possible d'obtenir de cette mani\u00e8re ?"
     ]
    },
    {
     "cell_type": "code",
     "collapsed": false,
     "input": [
      "# Utilisez cette cellule pour calculer\n",
      "\n"
     ],
     "language": "python",
     "metadata": {},
     "outputs": []
    },
    {
     "cell_type": "heading",
     "level": 1,
     "metadata": {},
     "source": [
      "Fabriquer une image gr\u00e2ce \u00e0 Python"
     ]
    },
    {
     "cell_type": "markdown",
     "metadata": {},
     "source": [
      "Il est temps de revenir \u00e0 Python pour fabriquer des images. Pour ce faire, observez et ex\u00e9cutez le programme ci-dessous."
     ]
    },
    {
     "cell_type": "code",
     "collapsed": false,
     "input": [
      "%pylab inline\n",
      "from PIL import Image\n",
      "\n",
      "R=255\n",
      "V=255\n",
      "B=0\n",
      "\n",
      "w,h=320,240\n",
      "\n",
      "monimage=Image.new(\"RGB\",(w,h))\n",
      "\n",
      "for y in range(h):\n",
      "    for x in range(w):\n",
      "        monimage.putpixel((x,y),(R,V,B))\n",
      "\n",
      "imshow(monimage)"
     ],
     "language": "python",
     "metadata": {},
     "outputs": []
    },
    {
     "cell_type": "heading",
     "level": 2,
     "metadata": {},
     "source": [
      "Explications"
     ]
    },
    {
     "cell_type": "markdown",
     "metadata": {},
     "source": [
      "Lisez attentivement les explications ci-dessous pour comprendre le fonctionnement de ce programme car vous devrez ensuite le modifier !\n",
      "\n",
      "Ce n'est pas si compliqu\u00e9 que cela para\u00eet : Les notions les plus importantes - comme les boucles - vous sont d\u00e9j\u00e0 famili\u00e8res gr\u00e2ce \u00e0 la tortue !\n",
      "\n",
      "***from PIL import *** : Nous commen\u00e7ons nos programme par importer la librairie PIL qui permet de travailler sur les images. "
     ]
    },
    {
     "cell_type": "markdown",
     "metadata": {},
     "source": [
      "Vient ensuite l'initialisation de quelques variables. ***Compl\u00e9tez les ... ci-dessous*** afin de d\u00e9crire le r\u00f4le de chacune d'elles :\n",
      "- R : Niveau de rouge\n",
      "- V : Niveau de vert\n",
      "- B : niveau de bleu\n",
      "- w : largeur de l'image en pixels\n",
      "- h : hauteur de l'image en pixels"
     ]
    },
    {
     "cell_type": "markdown",
     "metadata": {},
     "source": [
      "***monimage=Image.new(\"RGB\",(w,h))*** permet de cr\u00e9er une nouvelle image dans la variable ***monimage***. Les caract\u00e9ristiques de cette image sont d\u00e9clar\u00e9es entre les parenth\u00e8ses : \n",
      "- ***\"RGB\"*** signifie que les pixels sont d\u00e9finis par leur niveau de rouge, vert et bleu comme on a vu\n",
      "- ***(w,h)*** permet de d\u00e9finir la largeur et la hauteur de mon image, donc sa ***r\u00e9solution*** en pixels."
     ]
    },
    {
     "cell_type": "markdown",
     "metadata": {},
     "source": [
      "Nous construisons ensuite deux boucles : la premi\u00e8re qui permet de parcourir toutes les lignes de *monimage* et la seconde qui permet de parcourir toutes les colonnes. Gr\u00e2ce \u00e0 ces deux boucles, nous pouvons atteindre ***chaque pixel*** de *monimage*.\n",
      "\n",
      "Au passage, vous voyez que l'on d\u00e9finit en quelque sorte ce qu'on appelle ***un rep\u00e8re*** en math\u00e9matique, l'unit\u00e9 \u00e9tant le pixel.\n",
      "- l'axe des abscisses est gradu\u00e9 de 0 \u00e0 320\n",
      "- l'axe des ordonn\u00e9es est gradu\u00e9 de 0 \u00e0 240\n",
      "\n",
      "A la diff\u00e9rence des rep\u00e8res que vous rencontrez en math\u00e9matiques, l'axe des ordonn\u00e9es est orient\u00e9 ***vers le bas*** car on construit notre image du haut de l'\u00e9cran vers le bas, ce qui est plus naturel.\n",
      "\n",
      "Le rep\u00e8re est indiqu\u00e9 en bordure de l'image."
     ]
    },
    {
     "cell_type": "markdown",
     "metadata": {},
     "source": [
      "Nous terminons enfin avec l'instruction ***monimage.putpixel***(*Coordonn\u00e9es*,*pixel*)\n",
      "- *coordonn\u00e9es* contient les coordonn\u00e9es du pixel \u00e0 modifier dans notre rep\u00e8re au format ***(abscisse,ordonn\u00e9e)***\n",
      "- *pixel* contient la quantit\u00e9 de rouge, de vert et de bleu de notre pixel au format ***(R,V,B)***\n",
      "\n",
      "Fa\u00eetes bien attention \u00e0 ajouter les parenth\u00e8ses pour d\u00e9limiter les donn\u00e9es des param\u00e8tres *coordonn\u00e9es* et *pixels*."
     ]
    },
    {
     "cell_type": "heading",
     "level": 2,
     "metadata": {},
     "source": [
      "A vous de jouer !"
     ]
    },
    {
     "cell_type": "markdown",
     "metadata": {},
     "source": [
      "Vous savez tout ! Maintenant, vous allez modifier notre programme afin de r\u00e9aliser un joli d\u00e9grad\u00e9 horizontal allant du jaune vers le blanc.\n",
      "![](http://s25.postimg.org/kji7giy8f/mps1.png)\n",
      "\n",
      "***Indication*** : Reprenez le programme pr\u00e9c\u00e9dent. Vous allez devoir modifier l'instruction ***putpixel*** afin d'ajouter du bleu au fur \u00e0 mesure que l'abscisse augmente."
     ]
    },
    {
     "cell_type": "code",
     "collapsed": false,
     "input": [
      "# recopiez et modifier le programme ici :\n"
     ],
     "language": "python",
     "metadata": {},
     "outputs": []
    },
    {
     "cell_type": "heading",
     "level": 2,
     "metadata": {},
     "source": [
      "Amusez-vous"
     ]
    },
    {
     "cell_type": "markdown",
     "metadata": {},
     "source": [
      "A pr\u00e9sent, amusez-vous. Modifiez le pixel \u00e0 ajouter avec une formule contenant ***x*** et ***y*** afin d'obtenir de jolis m\u00e9langes de couleurs comme sur l'exemple ci-dessous. Vous pouvez faire plus joli avec un peu d'imagination :)"
     ]
    },
    {
     "cell_type": "code",
     "collapsed": false,
     "input": [
      "from PIL import Image\n",
      "\n",
      "R=255\n",
      "V=255\n",
      "B=0\n",
      "\n",
      "w,h=320,240\n",
      "\n",
      "monimage=Image.new(\"RGB\",(w,h))\n",
      "\n",
      "for y in range(h):\n",
      "    for x in range(w):\n",
      "        monimage.putpixel((x,y),(R+x, V-x,y))\n",
      "\n",
      "imshow(monimage)"
     ],
     "language": "python",
     "metadata": {},
     "outputs": []
    },
    {
     "cell_type": "code",
     "collapsed": false,
     "input": [],
     "language": "python",
     "metadata": {},
     "outputs": []
    },
    {
     "cell_type": "heading",
     "level": 2,
     "metadata": {},
     "source": [
      "Image al\u00e9atoire"
     ]
    },
    {
     "cell_type": "markdown",
     "metadata": {},
     "source": [
      "Rappel : Nous avons vu la fonction ***randint()*** de la librairie *random*  qui permet de renvoyer un nombre entier al\u00e9atoire entre deux bornes. L'exemple suivant montre l'utilisation de randint puor simuler le lancer d'un d\u00e9 \u00e0 6 faces."
     ]
    },
    {
     "cell_type": "code",
     "collapsed": false,
     "input": [
      "from random import *\n",
      "\n",
      "print(randint(1,6))"
     ],
     "language": "python",
     "metadata": {},
     "outputs": []
    },
    {
     "cell_type": "markdown",
     "metadata": {},
     "source": [
      "A pr\u00e9sent, utilisez cette fonction ***randint(borne_min,borne_max)*** pour fabriquer une image totalement al\u00e9atoire."
     ]
    },
    {
     "cell_type": "code",
     "collapsed": false,
     "input": [
      "# A vous de jouer"
     ],
     "language": "python",
     "metadata": {},
     "outputs": []
    },
    {
     "cell_type": "markdown",
     "metadata": {},
     "source": [
      "A pr\u00e9sent, modifiez votre programme afin qu'il n'affiche que des pixels noirs (0,0,0) ou blanc (255,255,255) distribu\u00e9s al\u00e9atoirement."
     ]
    },
    {
     "cell_type": "code",
     "collapsed": false,
     "input": [
      "# A vous de jouer"
     ],
     "language": "python",
     "metadata": {},
     "outputs": []
    },
    {
     "cell_type": "code",
     "collapsed": false,
     "input": [],
     "language": "python",
     "metadata": {},
     "outputs": []
    }
   ],
   "metadata": {}
  }
 ]
}