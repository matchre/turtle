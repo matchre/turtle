{
 "metadata": {
  "name": "",
  "signature": "sha256:31f192e2353ad1d33537f12b4978357511bfc57103a5d6e0f3d3397381049a0a"
 },
 "nbformat": 3,
 "nbformat_minor": 0,
 "worksheets": [
  {
   "cells": [
    {
     "cell_type": "heading",
     "level": 1,
     "metadata": {},
     "source": [
      "D\u00e9buter avec le module Turtle"
     ]
    },
    {
     "cell_type": "markdown",
     "metadata": {},
     "source": [
      "Dans ce classeur, nous allons prendre contact avec l'environnement ***python*** et le module ***turtle***.\n",
      "\n",
      "***Python*** est un *langage de programmation*. Il nous permet de cr\u00e9er des *programmes* sur l'ordinateur. Un programme est une suite d'intructions tr\u00e8s simples que la machine peut comprendre.\n",
      "\n",
      "le module ***turtle*** va nous permettre de cr\u00e9er des images sur l'ordinateur \u00e0 l'aide d'instructions tr\u00e8s simples du type\n",
      "- avance de tant de pas\n",
      "- tourne \u00e0 droite ou \u00e0 gauche de tant de degr\u00e9s \n",
      "- etc...\n",
      "\n",
      "Ces instructions pourtant tr\u00e8s simples vont nous permettre de dessiner des images assez vari\u00e9es.\n",
      "\n",
      "Commen\u00e7ons tout de suite par un exemple pour d\u00e9couvrir l'environnement ***Python*** :\n",
      "\n",
      "Ex\u00e9cutez la cellule ci-dessous en \n",
      "- cliquant \u00e0 l'int\u00e9rieur\n",
      "- appuyant sur ***Majuscule*** puis ***Entr\u00e9e***"
     ]
    },
    {
     "cell_type": "code",
     "collapsed": false,
     "input": [
      "# On commence toujours par cette ligne\n",
      "from turtle import * \n",
      "\n",
      "# On d\u00e9finit une unit\u00e9 de longueur\n",
      "u=50\n",
      "\n",
      "forward(2*u) # Avancer de deux unit\u00e9s\n",
      "left(90)     # tourner \u00e0 gauche de deux unit\u00e9s\n",
      "forward(1*u) # Avancer d'une unit\u00e9\n",
      "right(90)    # Tourner \u00e0 droite d'une unit\u00e9\n",
      "forward(2*u) # Avancer de deux unit\u00e9s\n",
      "right(90)    # etc ...\n",
      "forward(3*u)\n",
      "right(90)\n",
      "forward(4*u)\n",
      "right(90)\n",
      "forward(2*u)\n",
      "write('test')\n",
      "# On termine toujours par cette ligne\n",
      "exitonclick()\n",
      "\n",
      "# Les lignes commen\u00e7ant par # sont juste des commentaires\n",
      "# elles sont tout simplement ignor\u00e9es par Python"
     ],
     "language": "python",
     "metadata": {},
     "outputs": [],
     "prompt_number": 1
    },
    {
     "cell_type": "heading",
     "level": 2,
     "metadata": {},
     "source": [
      "Quelques explications"
     ]
    },
    {
     "cell_type": "code",
     "collapsed": false,
     "input": [
      "import turtle\n",
      "dir(turtle)"
     ],
     "language": "python",
     "metadata": {},
     "outputs": [
      {
       "metadata": {},
       "output_type": "pyout",
       "prompt_number": 5,
       "text": [
        "['Canvas',\n",
        " 'Pen',\n",
        " 'RawPen',\n",
        " 'RawTurtle',\n",
        " 'Screen',\n",
        " 'ScrolledCanvas',\n",
        " 'Shape',\n",
        " 'TK',\n",
        " 'TNavigator',\n",
        " 'TPen',\n",
        " 'Tbuffer',\n",
        " 'Terminator',\n",
        " 'Turtle',\n",
        " 'TurtleGraphicsError',\n",
        " 'TurtleScreen',\n",
        " 'TurtleScreenBase',\n",
        " 'Vec2D',\n",
        " '_CFG',\n",
        " '_LANGUAGE',\n",
        " '_Root',\n",
        " '_Screen',\n",
        " '_TurtleImage',\n",
        " '__all__',\n",
        " '__builtins__',\n",
        " '__cached__',\n",
        " '__doc__',\n",
        " '__file__',\n",
        " '__forwardmethods',\n",
        " '__loader__',\n",
        " '__methodDict',\n",
        " '__methods',\n",
        " '__name__',\n",
        " '__package__',\n",
        " '__spec__',\n",
        " '__stringBody',\n",
        " '_alias_list',\n",
        " '_getpen',\n",
        " '_getscreen',\n",
        " '_screen_docrevise',\n",
        " '_tg_classes',\n",
        " '_tg_screen_functions',\n",
        " '_tg_turtle_functions',\n",
        " '_tg_utilities',\n",
        " '_turtle_docrevise',\n",
        " '_ver',\n",
        " 'addshape',\n",
        " 'back',\n",
        " 'backward',\n",
        " 'begin_fill',\n",
        " 'begin_poly',\n",
        " 'bgcolor',\n",
        " 'bgpic',\n",
        " 'bk',\n",
        " 'bye',\n",
        " 'circle',\n",
        " 'clear',\n",
        " 'clearscreen',\n",
        " 'clearstamp',\n",
        " 'clearstamps',\n",
        " 'clone',\n",
        " 'color',\n",
        " 'colormode',\n",
        " 'config_dict',\n",
        " 'deepcopy',\n",
        " 'defstr',\n",
        " 'degrees',\n",
        " 'delay',\n",
        " 'distance',\n",
        " 'done',\n",
        " 'dot',\n",
        " 'down',\n",
        " 'end_fill',\n",
        " 'end_poly',\n",
        " 'exitonclick',\n",
        " 'fd',\n",
        " 'fillcolor',\n",
        " 'filling',\n",
        " 'forward',\n",
        " 'get_poly',\n",
        " 'get_shapepoly',\n",
        " 'getcanvas',\n",
        " 'getmethparlist',\n",
        " 'getpen',\n",
        " 'getscreen',\n",
        " 'getshapes',\n",
        " 'getturtle',\n",
        " 'goto',\n",
        " 'heading',\n",
        " 'hideturtle',\n",
        " 'home',\n",
        " 'ht',\n",
        " 'inspect',\n",
        " 'isdown',\n",
        " 'isfile',\n",
        " 'isvisible',\n",
        " 'join',\n",
        " 'left',\n",
        " 'listen',\n",
        " 'lt',\n",
        " 'mainloop',\n",
        " 'math',\n",
        " 'methodname',\n",
        " 'mode',\n",
        " 'numinput',\n",
        " 'onclick',\n",
        " 'ondrag',\n",
        " 'onkey',\n",
        " 'onkeypress',\n",
        " 'onkeyrelease',\n",
        " 'onrelease',\n",
        " 'onscreenclick',\n",
        " 'ontimer',\n",
        " 'pd',\n",
        " 'pen',\n",
        " 'pencolor',\n",
        " 'pendown',\n",
        " 'pensize',\n",
        " 'penup',\n",
        " 'pl1',\n",
        " 'pl2',\n",
        " 'pos',\n",
        " 'position',\n",
        " 'pu',\n",
        " 'radians',\n",
        " 'read_docstrings',\n",
        " 'readconfig',\n",
        " 'register_shape',\n",
        " 'reset',\n",
        " 'resetscreen',\n",
        " 'resizemode',\n",
        " 'right',\n",
        " 'rt',\n",
        " 'screensize',\n",
        " 'seth',\n",
        " 'setheading',\n",
        " 'setpos',\n",
        " 'setposition',\n",
        " 'settiltangle',\n",
        " 'setundobuffer',\n",
        " 'setup',\n",
        " 'setworldcoordinates',\n",
        " 'setx',\n",
        " 'sety',\n",
        " 'shape',\n",
        " 'shapesize',\n",
        " 'shapetransform',\n",
        " 'shearfactor',\n",
        " 'showturtle',\n",
        " 'simpledialog',\n",
        " 'speed',\n",
        " 'split',\n",
        " 'st',\n",
        " 'stamp',\n",
        " 'sys',\n",
        " 'textinput',\n",
        " 'tilt',\n",
        " 'tiltangle',\n",
        " 'time',\n",
        " 'title',\n",
        " 'towards',\n",
        " 'tracer',\n",
        " 'turtles',\n",
        " 'turtlesize',\n",
        " 'types',\n",
        " 'undo',\n",
        " 'undobufferentries',\n",
        " 'up',\n",
        " 'update',\n",
        " 'width',\n",
        " 'window_height',\n",
        " 'window_width',\n",
        " 'write',\n",
        " 'write_docstringdict',\n",
        " 'xcor',\n",
        " 'ycor']"
       ]
      }
     ],
     "prompt_number": 5
    },
    {
     "cell_type": "markdown",
     "metadata": {},
     "source": [
      "Un programme utilisant ***la tortue*** \n",
      "- commence toujours par la ligne   \n",
      "        from turtle import *\n",
      "- se termine toujours par la ligne  \n",
      "        exitonclick()\n",
      "\n",
      "Entre deux, mettez les commandes pour piloter la tortue. Notre tortue parle anglais :) nous venons de voir les commandes :\n",
      "- **forward**(*nombre de pas*) pour ***avancer*** d'un certain nombre de pas\n",
      "- **right**(*angle*) pour ***tourner*** d'un certain angle sur la ***droite***\n",
      "- **left**(*angle*) pour ***tourner*** d'un certain angle sur la ***gauche***\n",
      "\n",
      "Au passage, nous avons aussi ***d\u00e9fini une variable*** *u=50* : c'est une m\u00e9moire dans l'ordinateur qui permet de se souvenir d'une information (ici le nombre 50). On peut ainsi changer facilement l'unit\u00e9 sans avoir \u00e0 modifier le nombre de pas a plusieurs endroits dans notre programme."
     ]
    },
    {
     "cell_type": "heading",
     "level": 2,
     "metadata": {},
     "source": [
      "Activit\u00e9 1"
     ]
    },
    {
     "cell_type": "markdown",
     "metadata": {},
     "source": [
      "En utilisant le copier-coller, recopier le programme ci-dessus en le modifiant de mani\u00e8re \u00e0 r\u00e9aliser la m\u00eame figure, mais deux fois plus petite.\n",
      "\n",
      "Vous enl\u00e8verez \u00e9galement tous les ***commentaires***"
     ]
    },
    {
     "cell_type": "code",
     "collapsed": false,
     "input": [
      "# Copier votre programme ici"
     ],
     "language": "python",
     "metadata": {},
     "outputs": []
    },
    {
     "cell_type": "heading",
     "level": 1,
     "metadata": {},
     "source": [
      "Activit\u00e9 2 : Le carr\u00e9"
     ]
    },
    {
     "cell_type": "markdown",
     "metadata": {},
     "source": [
      "A pr\u00e9sent, vous allez r\u00e9aliser un carr\u00e9 de 100 pas de c\u00f4t\u00e9.\n",
      "\n",
      "***Conseil*** : Utilisez comme ci-dessus, une variable $u$ pour d\u00e9finir l'unit\u00e9 graphique (ici les 100 pas)."
     ]
    },
    {
     "cell_type": "code",
     "collapsed": false,
     "input": [
      "# Copier votre programme ici"
     ],
     "language": "python",
     "metadata": {},
     "outputs": []
    },
    {
     "cell_type": "heading",
     "level": 1,
     "metadata": {},
     "source": [
      "Activit\u00e9 3 : le pentagone r\u00e9gulier"
     ]
    },
    {
     "cell_type": "markdown",
     "metadata": {},
     "source": [
      "Le pentagone r\u00e9gulier poss\u00e8de 5 cot\u00e9s de m\u00eame longueur, donc sur chaque c\u00f4t\u00e9, on avancera toujours du m\u00eame nombre de pas. Disons, toujours 100 pas.\n",
      "\n",
      "Mais de quel angle va t-ton tourner ? Un petit indice, au total, quand on finit la figure, on fait un tour complet sur nous m\u00eame donc 360 degr\u00e9s !\n",
      "\n",
      "***Conseil*** : Vous pourrez dans votre programme, en dessous de la *d\u00e9claration de la variable u*, d\u00e9crarer une variable **angle** qui contiendra l'angle avec lequel vous tournerez \u00e0 chaque sommet. Vous pouvez m\u00eame faire des divisions avec Python. Pour cela, utilisez la touche **/**."
     ]
    },
    {
     "cell_type": "code",
     "collapsed": false,
     "input": [
      "# Copier votre programme ici"
     ],
     "language": "python",
     "metadata": {},
     "outputs": []
    },
    {
     "cell_type": "heading",
     "level": 1,
     "metadata": {},
     "source": [
      "Activit\u00e9 4 : Le pentagone, mais en plus simple !"
     ]
    },
    {
     "cell_type": "markdown",
     "metadata": {},
     "source": [
      "Dans l'activit\u00e9 pr\u00e9c\u00e9dente, vous avez pu remarquer que vous avez r\u00e9p\u00e9t\u00e9 plusieurs fois la m\u00eame s\u00e9quence d'instructions :\n",
      "- avancer de tant de pas\n",
      "- tourner de tel angle\n",
      "\n",
      "Supposons que l'on souhaite dessiner un polygone \u00e0 57 c\u00f4t\u00e9s, notre programme sera fastidieux \u00e0 \u00e9crire !\n",
      "\n",
      "Heureusement, notre serpent pr\u00e9f\u00e9r\u00e9 a pens\u00e9 \u00e0 tout : il nous propose de faire ces taches r\u00e9p\u00e9titives automatiquement pour nous. Comment ? au moyen de ce qu'on appelle des ***boucles*** car pour les pythons, les boucles sont naturelles !\n",
      "![](http://www.manimalworld.net/medias/images/serpent-constricteur.jpg)"
     ]
    },
    {
     "cell_type": "markdown",
     "metadata": {},
     "source": [
      "Commen\u00e7ons par une boucle simple qui r\u00e9p\u00e8te 5 fois la m\u00eame chose :"
     ]
    },
    {
     "cell_type": "code",
     "collapsed": false,
     "input": [
      "for i in range(5):\n",
      "    print(\"Je r\u00e9p\u00e8te 5 fois la m\u00eame chose\")"
     ],
     "language": "python",
     "metadata": {},
     "outputs": []
    },
    {
     "cell_type": "heading",
     "level": 3,
     "metadata": {},
     "source": [
      "Explications"
     ]
    },
    {
     "cell_type": "markdown",
     "metadata": {},
     "source": [
      "Dans le programme ci-dessus, Python r\u00e9p\u00e8te 5 fois l'instruction **print** qui se charge d'afficher un texte, sans que nous ayons besoin d'\u00e9crire 5 fois cette ligne. Comment ? gr\u00e2ce \u00e0 l'instruction ***for**.\n",
      "\n",
      "***Important*** : Une boucle ***for*** (ou ***pour*** en fran\u00e7ais) permet de r\u00e9p\u00e9ter un morcreau de programme ***un certain nombre de fois***, ce nombre \u00e9tant d\u00e9fini au d\u00e9part.\n",
      "\n",
      "Dans la cellule ci-dessous, modifiez le programme pour qu'il copie 10 fois le texte au lieu de 5."
     ]
    },
    {
     "cell_type": "code",
     "collapsed": false,
     "input": [
      "# Votre programme ici"
     ],
     "language": "python",
     "metadata": {},
     "outputs": []
    },
    {
     "cell_type": "markdown",
     "metadata": {},
     "source": [
      "Pour utiliser une boucle ***for*** en python :\n",
      "- On pr\u00e9cise le nombre de r\u00e9p\u00e9titions dans les parenth\u00e8ses de l'instruction ***range***\n",
      "- On termine la ligne ***for ...*** par ***:*** pour marquer le d\u00e9but du *bloc d'instruction qui sera r\u00e9p\u00e9t\u00e9*\n",
      "- On ***d\u00e9cale*** le bloc d'instruction \u00e0 r\u00e9p\u00e9ter de ***4 espaces vers la droite*** puor bien distinguer ce qui sera \u00e0 r\u00e9p\u00e9ter de ce qui ne l'est plus. Observez l'effet de ce d\u00e9calage dans l'exemple ci-dessous :"
     ]
    },
    {
     "cell_type": "code",
     "collapsed": false,
     "input": [
      "for i in range(5):\n",
      "    print(\"Je r\u00e9p\u00e8te 5 fois la m\u00eame chose\")\n",
      "\n",
      "print (\"j'ai fini de r\u00e9p\u00e9ter\")"
     ],
     "language": "python",
     "metadata": {},
     "outputs": []
    },
    {
     "cell_type": "heading",
     "level": 3,
     "metadata": {},
     "source": [
      "Revenons \u00e0 notre pentagone"
     ]
    },
    {
     "cell_type": "markdown",
     "metadata": {},
     "source": [
      "Ecrire un programme dessinant un pentagone r\u00e9gulier \u00e0 5 cot\u00e9s mais en utilisant une boucle ***for*** afin de limiter le nombre d'instructions au minimum.\n",
      "\n",
      "***Conseil*** : Inspirez-vous du programme du pentagone du d\u00e9part puis de celui de la boucle ***for***"
     ]
    },
    {
     "cell_type": "code",
     "collapsed": false,
     "input": [
      "# Ecrivez votre programme ici\n"
     ],
     "language": "python",
     "metadata": {},
     "outputs": []
    },
    {
     "cell_type": "markdown",
     "metadata": {},
     "source": [
      "C'est quand m\u00eame bien plus simple non !!!"
     ]
    },
    {
     "cell_type": "heading",
     "level": 1,
     "metadata": {},
     "source": [
      "Activit\u00e9 5 : L'octogone"
     ]
    },
    {
     "cell_type": "markdown",
     "metadata": {},
     "source": [
      "Nous souhaitons \u00e0 pr\u00e9sent fabriquer un **Octogone r\u00e9gulier**. Gr\u00e2ce aux boucles, votre programme ne devrait pas \u00eatre plus long que celui du Pentagone. Ecrivez votre programme ci-dessous."
     ]
    },
    {
     "cell_type": "code",
     "collapsed": false,
     "input": [
      "# Ecrivez votre programme ici\n"
     ],
     "language": "python",
     "metadata": {},
     "outputs": []
    },
    {
     "cell_type": "heading",
     "level": 2,
     "metadata": {},
     "source": [
      "Activit\u00e9 6 : Le polygone r\u00e9gulier \u00e0 n cot\u00e9s"
     ]
    },
    {
     "cell_type": "markdown",
     "metadata": {},
     "source": [
      "Nous allons maintenant dessiner un polygone r\u00e9gulier \u00e0 $n$ cot\u00e9s o\u00f9 $n$ est une variable d\u00e9finie au d\u00e9but de notre programme. L'avantage sera ainsi de changer le nombre de cot\u00e9s uniquement \u00e0 cet endroit et notre figure s'adaptera toute seule. Compl\u00e9tez le programme ci-dessous pour pendre en compte la variable $n$ qui contient le nombre de cot\u00e9s :"
     ]
    },
    {
     "cell_type": "code",
     "collapsed": false,
     "input": [
      "from turtle import * \n",
      "\n",
      "u=100\n",
      "n=12  # On veut tracer un polygone \u00e0 12 cot\u00e9s\n",
      "\n",
      "# compl\u00e9tez votre programme ci-dessous"
     ],
     "language": "python",
     "metadata": {},
     "outputs": []
    },
    {
     "cell_type": "heading",
     "level": 1,
     "metadata": {},
     "source": [
      "Activit\u00e9 7 : Polygones imbriqu\u00e9s"
     ]
    },
    {
     "cell_type": "markdown",
     "metadata": {},
     "source": [
      "Pour cloturer ce premier classeur de d\u00e9couverte, nous allons contruire des polygones de plus en plus grands. C'est l'occasion d'enrichir notre connaissance sur les boucles et de d\u00e9couvrir une nouvelle instruction de la tortue : la commande ***goto()***. Elle permet \u00e0 la tortue de se d\u00e9placer sur une case pr\u00e9cise (ici 0,0 est au centre de la fen\u00eatre).\n",
      "\n",
      "Ex\u00e9cutez le programme ci-dessous et admirez :"
     ]
    },
    {
     "cell_type": "code",
     "collapsed": false,
     "input": [
      "from turtle import * \n",
      "\n",
      "n=4\n",
      "\n",
      "angle=360/n\n",
      "\n",
      "for u in range(10,100,10):\n",
      "    for i in range(n):\n",
      "        forward(u) \n",
      "        left(angle)\n",
      "    goto(0,0)\n",
      "    \n",
      "exitonclick()"
     ],
     "language": "python",
     "metadata": {},
     "outputs": []
    },
    {
     "cell_type": "heading",
     "level": 3,
     "metadata": {},
     "source": [
      "Explications"
     ]
    },
    {
     "cell_type": "markdown",
     "metadata": {},
     "source": [
      "Ce programme dessine plusieurs carr\u00e9s, de plus en plus grands. Cela signifie qu'\u00e0 chaque carr\u00e9, la tortue fait de plus en plus de pas.\n",
      "\n",
      "Le nombre de pas est d\u00e9fini par la variable $u$. L'astuce ici est de faire d\u00e9crire une boucle \u00e0 cette variable, mais cette boucle est un peu particuli\u00e8re : examinons la de plus pr\u00e8s dans l'exemple ci-dessous :"
     ]
    },
    {
     "cell_type": "code",
     "collapsed": false,
     "input": [
      "for u in range(10,100,10):\n",
      "    print (u)"
     ],
     "language": "python",
     "metadata": {},
     "outputs": []
    },
    {
     "cell_type": "markdown",
     "metadata": {},
     "source": [
      "En vous inspirant de la boucle ci-dessus,\n",
      "- \u00e9crire une boucle pour compter de 5 en 5 au lieu de 10 en 10.\n",
      "- \u00e9crire une boucle pour compter de 5 en 5 et qui s'arr\u00e8te \u00e0 200"
     ]
    },
    {
     "cell_type": "code",
     "collapsed": false,
     "input": [
      "# Ecrire votre boucle ici :"
     ],
     "language": "python",
     "metadata": {},
     "outputs": []
    },
    {
     "cell_type": "markdown",
     "metadata": {},
     "source": [
      "En vous inspirant de ce qui a \u00e9t\u00e9 vu, \u00e9crivez un programme reproduisant cette figure :\n",
      "![](http://s25.postimg.org/fq301vemn/polygones1.png)"
     ]
    },
    {
     "cell_type": "code",
     "collapsed": false,
     "input": [
      "# Ecrivez votre programme ici"
     ],
     "language": "python",
     "metadata": {},
     "outputs": []
    },
    {
     "cell_type": "markdown",
     "metadata": {},
     "source": [
      "Et enfin, puor terminer ce classeur, vous devrez r\u00e9aliser cette superbe pyramide carr\u00e9e !!!\n",
      "![](http://s25.postimg.org/7adfkdbrj/polygones2.png)"
     ]
    },
    {
     "cell_type": "code",
     "collapsed": false,
     "input": [
      "# Ecrivez votre programme ici"
     ],
     "language": "python",
     "metadata": {},
     "outputs": []
    },
    {
     "cell_type": "heading",
     "level": 1,
     "metadata": {},
     "source": [
      "En guise de conclusion"
     ]
    },
    {
     "cell_type": "markdown",
     "metadata": {},
     "source": [
      "F\u00e9licitations, vous avez d\u00e9couvert l'environnement Python, utilis\u00e9 des variables, ma\u00eetris\u00e9 les boucles pour, y compris utilis\u00e9 des boucles dans des boucles ce qui est d\u00e9j\u00e0 assez compliqu\u00e9 !\n",
      "\n",
      "Gr\u00e2ce \u00e0 ce langage de programmation vous avez r\u00e9ussi \u00e0 tracer des figures g\u00e9om\u00e9triques assez complexes au moyen du module tortue. Nous poursuivrons l'exploration de ce module pour fabriquer des motifs de plus en plus sophistiqu\u00e9s."
     ]
    },
    {
     "cell_type": "code",
     "collapsed": false,
     "input": [],
     "language": "python",
     "metadata": {},
     "outputs": []
    }
   ],
   "metadata": {}
  }
 ]
}