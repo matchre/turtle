{
 "metadata": {
  "name": "",
  "signature": "sha256:30ddaf40f63e90a674b2d1bd9edf19aefe13d99ccac667b8e5c2d20efb18e5b2"
 },
 "nbformat": 3,
 "nbformat_minor": 0,
 "worksheets": [
  {
   "cells": [
    {
     "cell_type": "heading",
     "level": 1,
     "metadata": {},
     "source": [
      "MPS 7 : Retoucher une photo"
     ]
    },
    {
     "cell_type": "markdown",
     "metadata": {},
     "source": [
      "Pour \u00e9viter de saisir l'import des librairies image dans chaque cellule du classeur, nous les importons une fois pour toute dans ce classeur en validant la cellule suivante :"
     ]
    },
    {
     "cell_type": "code",
     "collapsed": false,
     "input": [
      "%pylab inline\n",
      "from PIL import *"
     ],
     "language": "python",
     "metadata": {},
     "outputs": []
    },
    {
     "cell_type": "heading",
     "level": 1,
     "metadata": {},
     "source": [
      "La Joconde - Travail sur la retouche de couleurs"
     ]
    },
    {
     "cell_type": "markdown",
     "metadata": {},
     "source": [
      "Sans plus attendre, chargeons l'image sur laquelle nous allons travailler dans cette premi\u00e8re partie :"
     ]
    },
    {
     "cell_type": "code",
     "collapsed": false,
     "input": [
      "# On charge le fichier JPG qui doit se trouver dans le m\u00eame dossier que le classeur MPS\n",
      "joconde=Image.open('monalisa_256.jpg')\n",
      "\n",
      "l,h=joconde.size\n",
      "\n",
      "# On affiche l'image ainsi charg\u00e9e\n",
      "imshow(joconde)"
     ],
     "language": "python",
     "metadata": {},
     "outputs": []
    },
    {
     "cell_type": "markdown",
     "metadata": {},
     "source": [
      "En observant la cellule ci-dessus, quelles sont les variables qui donnent la taille de l'image en pixels ?\n",
      "\n",
      "A l'aide de la fonction **print**, afficher la largeur et la hauteur de notre image en pixels."
     ]
    },
    {
     "cell_type": "code",
     "collapsed": false,
     "input": [
      "# Utilisez cette cellule pour afficher la largeur et la hauteur de notre image en pixels.\n"
     ],
     "language": "python",
     "metadata": {},
     "outputs": []
    },
    {
     "cell_type": "heading",
     "level": 2,
     "metadata": {},
     "source": [
      "Rappel"
     ]
    },
    {
     "cell_type": "markdown",
     "metadata": {},
     "source": [
      "Dans la semaine pr\u00e9c\u00e9dente, nous avons fabriqu\u00e9 des images \u00e0 partir de rien, uniquement en faisant des m\u00e9langes de couleurs primaires (Rouge, Vert, Bleu). \n",
      "\n",
      "Le principe \u00e9tait de concevoir deux boucles *pour* qui permettaient de parcourir notre image dans les deux dimensions ($x$ et $y$) et d'affecter au pixel qui se trouve aux coordonn\u00e9es $(x,y)$ la valeur $(R,V,B)$ o\u00f9 \n",
      "- R d\u00e9signe le niveau de rouge cod\u00e9 sous forme d'un entier de 0 \u00e0 255\n",
      "- V d\u00e9signe le niveau de vert cod\u00e9 sous forme d'un entier de 0 \u00e0 255\n",
      "- B d\u00e9signe le niveau de bleu cod\u00e9 sous forme d'un entier de 0 \u00e0 255\n",
      "\n",
      "Pour \u00e9crire un pixel dans une image, nous avons utilis\u00e9 la commande :\n",
      "> monimage.putpixel((x,y),(R,V,B))"
     ]
    },
    {
     "cell_type": "heading",
     "level": 2,
     "metadata": {},
     "source": [
      "R\u00e9cup\u00e9rer un pixel d'une image"
     ]
    },
    {
     "cell_type": "markdown",
     "metadata": {},
     "source": [
      "A pr\u00e9sent, nous avons une image stock\u00e9e dans la variable **joconde** et nous souhaitons faire l'op\u00e9ration inverse : savoir quels sont les niveaux de Rouge, Vert et Bleu pour un pixel donn\u00e9. Pour ce faire, nous utiliserons la commande\n",
      "> R,V,B=joconde.getpixel((x,y))\n",
      "\n",
      "Qui renvoie dans les variables R,V,B les niveaux de chaque couleur composant le pixel situ\u00e9 aux coordonn\u00e9es $x$ et $y$.\n",
      "\n",
      "En utilisant cette commande, r\u00e9cup\u00e9rez les niveaux des 3 couleurs composant le pixel situ\u00e9 \u00e0 la colonne 35 et la ligne 70 et affichez ces valeurs \u00e0 l'aide de la fonction **print**"
     ]
    },
    {
     "cell_type": "code",
     "collapsed": false,
     "input": [
      "# Tapez votre commande ici\n"
     ],
     "language": "python",
     "metadata": {},
     "outputs": []
    },
    {
     "cell_type": "markdown",
     "metadata": {},
     "source": [
      "Ce pixel se situe t-il plut\u00f4t dans une zone claire ou fonc\u00e9e ?"
     ]
    },
    {
     "cell_type": "markdown",
     "metadata": {},
     "source": [
      "R\u00e9pondez dans cette cellule de texte..."
     ]
    },
    {
     "cell_type": "markdown",
     "metadata": {},
     "source": [
      "M\u00eame question avec le pixel se situant sur la colonne 230 et la colonne 230"
     ]
    },
    {
     "cell_type": "code",
     "collapsed": false,
     "input": [
      "# Tapez votre commande ici\n"
     ],
     "language": "python",
     "metadata": {},
     "outputs": []
    },
    {
     "cell_type": "markdown",
     "metadata": {},
     "source": [
      "R\u00e9pondez dans cette cellule de texte..."
     ]
    },
    {
     "cell_type": "heading",
     "level": 2,
     "metadata": {},
     "source": [
      "Modifier les couleurs d'une image"
     ]
    },
    {
     "cell_type": "code",
     "collapsed": false,
     "input": [
      "# On cr\u00e9e une nouvelle image pour ne pas d\u00e9teriorer notre joconde !\n",
      "# D\u00e9sormais, nous modifierons cette image\n",
      "monimage=Image.new(\"RGB\",(l,h))"
     ],
     "language": "python",
     "metadata": {},
     "outputs": []
    },
    {
     "cell_type": "heading",
     "level": 3,
     "metadata": {},
     "source": [
      "Recopie d'une image pixel par pixel"
     ]
    },
    {
     "cell_type": "markdown",
     "metadata": {},
     "source": [
      "Pour commencer, nous allons transf\u00e9rer tous les pixels de l'image **joconde** vers la nouvelle image **monimage**. Pour ce faire, l'algorithme est le suivant :\n",
      "\n",
      "<PRE>\n",
      "Pour x allant de 0 \u00e0 la largeur l de l'image faire :\n",
      "    Pour y allant de 0 \u00e0 la hauteur h de l'image faire :\n",
      "        R, V et B contiennent les couleurs du pixel aux coordonn\u00e9es (x,y) de l'image joconde\n",
      "        mettre dans monimage les couleurs R,V et B r\u00e9cup\u00e9r\u00e9es aux coordonn\u00e9es (x,y)\n",
      "\n",
      "Afficher monimage\n",
      "</PRE>\n",
      "\n",
      "Le programme dans la cellule ci-dessous est incomplet. A vous de remplacer les ... en fonction de l'algorithme donn\u00e9 ci-dessous.\n",
      "\n",
      "Comprenez bien comment fonctionne ce programme, il sera \u00e0 la **base de toutes les manipulations** que nous ferons \u00e0 partir de maintenant."
     ]
    },
    {
     "cell_type": "code",
     "collapsed": false,
     "input": [
      "# Compl\u00e9tez le programme ci-dessous\n",
      "for x in range(...):\n",
      "    for y in range(...):\n",
      "        R,V,B=joconde...     # On r\u00e9cup\u00e8re le pixel de joconde\n",
      "        monimage...          # On l'\u00e9crit dans monimage\n",
      "imshow(monimage)"
     ],
     "language": "python",
     "metadata": {},
     "outputs": []
    },
    {
     "cell_type": "markdown",
     "metadata": {},
     "source": [
      "Commen\u00e7ons \u00e0 torturer notre joconde ! Vous allez refaire la m\u00eame op\u00e9ration de recopie de l'image **joconde** vers **monimage**, mais cette fois-ci, vous allez inverser les niveaux de couleur Vert et Bleu ! Affichez alors la nouvelle image obtenue par cette manipulation."
     ]
    },
    {
     "cell_type": "code",
     "collapsed": false,
     "input": [
      "# Inversez les niveaux de vert et bleu"
     ],
     "language": "python",
     "metadata": {},
     "outputs": []
    },
    {
     "cell_type": "markdown",
     "metadata": {},
     "source": [
      "A pr\u00e9sent, vous allez conserver l'ordre des couleurs, R,V,B mais diminuer la teinte rouge. Comment ? par exemple en divisant le niveau de rouge par 2.\n",
      "\n",
      "Attention cependant : La commande **putpixel** attend un niveau de couleur (Rouge, Vert ou Bleu) qui soit un nombre ***entier***. Si vous divisez par deux le niveau de rouge sans pr\u00e9cautions, vous risquez d'obtenir un nombre d\u00e9cimal ce qui provoquera une erreur. La cellule suivante montre comment r\u00e9aliser une division en ne gardant que le **quotient entier**, sans la partie d\u00e9cimale. On utilise l'op\u00e9rateur ***//*** au lieu de ***/***."
     ]
    },
    {
     "cell_type": "code",
     "collapsed": false,
     "input": [
      "# division enti\u00e8re\n",
      "print (127/2 , \" n'est pas entier\")\n",
      "print (127//2, \" est entier\")"
     ],
     "language": "python",
     "metadata": {},
     "outputs": []
    },
    {
     "cell_type": "code",
     "collapsed": false,
     "input": [
      "# Diminuez le niveau de rouge de 50%"
     ],
     "language": "python",
     "metadata": {},
     "outputs": []
    },
    {
     "cell_type": "markdown",
     "metadata": {},
     "source": [
      "A pr\u00e9sent, au lieu de diminuer le niveau de rouge de 50%, vous allez l'augmenter de 50%. Pour cela, vous vous rappelez qu'augmenter une quantit\u00e9 de 50% revient \u00e0 la multiplier par ...."
     ]
    },
    {
     "cell_type": "code",
     "collapsed": false,
     "input": [
      "# Augmenter le niveau de rouge de 50%"
     ],
     "language": "python",
     "metadata": {},
     "outputs": []
    },
    {
     "cell_type": "heading",
     "level": 2,
     "metadata": {},
     "source": [
      "Jouer sur la luminosit\u00e9 de l'image"
     ]
    },
    {
     "cell_type": "markdown",
     "metadata": {},
     "source": [
      "Dans cette partie, nous allons effectuer des op\u00e9rations sur les couleurs, mais en prenant garde de faire les m\u00eame sur chacune des couleurs R,V et B afin de ne pas modifier la teinte globale de l'image.\n",
      "\n",
      "Dans un premier temps, divisez par 3 les niveaux de Rouge, Vert et Bleu sur la joconde. Vous vous rappelez qu'il faut utilise la division enti\u00e8re !\n",
      "\n",
      "Quel est l'effet de cette op\u00e9ration sur l'image ?"
     ]
    },
    {
     "cell_type": "code",
     "collapsed": false,
     "input": [
      "# Divisez par 3 les niveaux de rouge, vert et bleu"
     ],
     "language": "python",
     "metadata": {},
     "outputs": []
    },
    {
     "cell_type": "markdown",
     "metadata": {},
     "source": [
      "On souhaite \u00e0 pr\u00e9sent \u00e9claircir notre joconde. Proposez un programme ci-dessous pour faire cette op\u00e9ration."
     ]
    },
    {
     "cell_type": "code",
     "collapsed": false,
     "input": [
      "# Eclaicissez l'image de la joconde"
     ],
     "language": "python",
     "metadata": {},
     "outputs": []
    },
    {
     "cell_type": "heading",
     "level": 2,
     "metadata": {},
     "source": [
      "Filtres noir et blanc"
     ]
    },
    {
     "cell_type": "markdown",
     "metadata": {},
     "source": [
      "Vous avez vu \u00e0 la s\u00e9ance pr\u00e9c\u00e9dente qu'en m\u00e9langeant les couleurs Rouge, Vert et Bleu avec des niveaux **\u00e9gaux**, on obtient ainsi des nuances de gris.\n",
      "\n",
      "Le secr\u00eat pour passer une image en noir et blanc va \u00eatre de transformer chaque pixel de mani\u00e8re \u00e0 ce qu'il poss\u00e8de le m\u00eame niveau de Rouge, Vert et de Bleu. Il y a plusieurs mani\u00e8res de proc\u00e9der :"
     ]
    },
    {
     "cell_type": "heading",
     "level": 3,
     "metadata": {},
     "source": [
      "Noir et blanc bas\u00e9 sur le niveau de rouge, de vert ou de bleu"
     ]
    },
    {
     "cell_type": "markdown",
     "metadata": {},
     "source": [
      "Dans la cellule suivante, vous allez modifier les pixels de mani\u00e8re \u00e0 ne tenir compte que du niveau de Rouge. Ainsi, au lieu d'avoir des couleurs du type R,V,B, vous forcerez le pixel sur une couleur R,R,R ce qui aura pour effet d'avoir une image en noir et blanc, ne tenant compte que du niveau de rouge de l'image de d\u00e9part.\n",
      "\n",
      "Observez le r\u00e9sultat obtenu. Voyez avec quelle facilit\u00e9 notre joconde s'est fait d\u00e9colorer :)"
     ]
    },
    {
     "cell_type": "code",
     "collapsed": false,
     "input": [
      "# Noir et blanc bas\u00e9 sur la couleur rouge"
     ],
     "language": "python",
     "metadata": {},
     "outputs": []
    },
    {
     "cell_type": "markdown",
     "metadata": {},
     "source": [
      "Recommencez l'op\u00e9ration en utilisant cette fois ci le pixel vert en r\u00e9f\u00e9rence. \n",
      "\n",
      "Obtenez-vous la m\u00eame image ? Quelle est la diff\u00e9rence ?\n",
      "\n",
      "Votre r\u00e9ponse ici."
     ]
    },
    {
     "cell_type": "code",
     "collapsed": false,
     "input": [
      "# Noir et blanc bas\u00e9 sur la couleur vert"
     ],
     "language": "python",
     "metadata": {},
     "outputs": []
    },
    {
     "cell_type": "markdown",
     "metadata": {},
     "source": [
      "Recommencez enfin l'op\u00e9ration en utilisant cette fois ci le pixel bleu en r\u00e9f\u00e9rence. \n",
      "\n",
      "Obtenez-vous la m\u00eame image ? Quelle est la diff\u00e9rence ?\n",
      "\n",
      "Votre r\u00e9ponse ici."
     ]
    },
    {
     "cell_type": "code",
     "collapsed": false,
     "input": [
      "# Noir et blanc bas\u00e9 sur la couleur bleu"
     ],
     "language": "python",
     "metadata": {},
     "outputs": []
    },
    {
     "cell_type": "heading",
     "level": 3,
     "metadata": {},
     "source": [
      "Noir et blanc bas\u00e9 sur la d\u00e9saturatiuon des couleurs"
     ]
    },
    {
     "cell_type": "markdown",
     "metadata": {},
     "source": [
      "Dans cette partie, nous allons choisir de ne pas privil\u00e9gier une couleur particuli\u00e8re mais de mettre pour chaque pixel la valeur moyenne entre le Rouge, le Vert et le Bleu.\n",
      "\n",
      "Attention en calculant cette valeur moyenne, rappelez-vous que nous devons obtenir un nombre entier !"
     ]
    },
    {
     "cell_type": "code",
     "collapsed": false,
     "input": [
      "# Noir et blanc bas\u00e9 sur la moyenne des couleurs"
     ],
     "language": "python",
     "metadata": {},
     "outputs": []
    },
    {
     "cell_type": "markdown",
     "metadata": {},
     "source": [
      "Vous voyez ainsi qu'**il n'y a pas qu'une seule mani\u00e8re d'obtenir des noirs et blancs**. En fonction de ce que l'on veutr faire ressortir sur une image (v\u00e9g\u00e9tation, ciel, visages, etc...), on utilisera une m\u00e9thode plut\u00f4t qu'une autre."
     ]
    },
    {
     "cell_type": "heading",
     "level": 1,
     "metadata": {},
     "source": [
      "En guise de conclusion"
     ]
    },
    {
     "cell_type": "markdown",
     "metadata": {},
     "source": [
      "Vous avez vu comment \u00e0 l'aide d'op\u00e9rations math\u00e9matiques toutes simples, il est possible d'appliquer des effets tr\u00e8s divers sur une image. Vous avez\n",
      "- permutt\u00e9 des couleurs\n",
      "- modifi\u00e9 la teinte d'une image\n",
      "- jou\u00e9 sur la luminosit\u00e9 de l'image\n",
      "- appliqu\u00e9 diff\u00e9rents filtres noir et blanc\n",
      "\n",
      "En d'autre termes, vous avez fabriqu\u00e9 votre propre instagram :) f\u00e9licitations."
     ]
    },
    {
     "cell_type": "heading",
     "level": 1,
     "metadata": {},
     "source": [
      "S'il vous reste du temps ..."
     ]
    },
    {
     "cell_type": "markdown",
     "metadata": {},
     "source": [
      "R\u00e9cup\u00e9rez une photo sur votre smartPhone et copiez-la dans le dossier personnl MPS sur votre espace classe, \u00e0 cot\u00e9 du classeur MPS7.\n",
      "\n",
      "Vous pourrez alors vous amuser \u00e0 appliquer diff\u00e9rents filtres de couleurs ou noir et blanc sur votre image pour r\u00e9aliser des effets \u00e0 la instagram :)"
     ]
    },
    {
     "cell_type": "code",
     "collapsed": false,
     "input": [],
     "language": "python",
     "metadata": {},
     "outputs": []
    }
   ],
   "metadata": {}
  }
 ]
}