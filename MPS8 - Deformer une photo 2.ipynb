{
 "metadata": {
  "name": "",
  "signature": "sha256:7aa2a530d21de58ddf0fd4c08d13549e06b7feab23ebce79a693e30bffd0ec48"
 },
 "nbformat": 3,
 "nbformat_minor": 0,
 "worksheets": [
  {
   "cells": [
    {
     "cell_type": "heading",
     "level": 2,
     "metadata": {},
     "source": [
      "MPS 8 - D\u00e9former une photo"
     ]
    },
    {
     "cell_type": "markdown",
     "metadata": {},
     "source": [
      "Pour \u00e9viter de saisir l'import des librairies image dans chaque cellule du classeur, nous les importons une fois pour toute dans ce classeur en validant la cellule suivante :"
     ]
    },
    {
     "cell_type": "code",
     "collapsed": false,
     "input": [
      "%pylab inline\n",
      "from PIL import *"
     ],
     "language": "python",
     "metadata": {},
     "outputs": []
    },
    {
     "cell_type": "markdown",
     "metadata": {},
     "source": [
      "Chargeons la joconde qui nous servira d'image de r\u00e9f\u00e9rence dans ce classeur."
     ]
    },
    {
     "cell_type": "code",
     "collapsed": false,
     "input": [
      "# On charge le fichier JPG qui doit se trouver dans le m\u00eame dossier que le classeur MPS\n",
      "joconde=Image.open('monalisa_256.jpg')\n",
      "\n",
      "l,h=joconde.size\n",
      "\n",
      "# On affiche l'image ainsi charg\u00e9e\n",
      "imshow(joconde)\n",
      "\n",
      "# On cr\u00e9e une nouvelle image pour recevoir les modifications\n",
      "monimage=Image.new(\"RGB\",(l,h))"
     ],
     "language": "python",
     "metadata": {},
     "outputs": []
    },
    {
     "cell_type": "markdown",
     "metadata": {},
     "source": [
      "Commen\u00e7ons par rappeler le programme permettant de recopier ***joconde*** dans ***monimage***.\n",
      "\n",
      "Ce programme nous servira de base pour nos activit\u00e9s dans ce classeur."
     ]
    },
    {
     "cell_type": "code",
     "collapsed": false,
     "input": [
      "# Recopie exacte de la jonconde dans monimage\n",
      "\n",
      "for x in range(l):\n",
      "    for y in range(h):\n",
      "        R,V,B=joconde.getpixel((x,y))     # On r\u00e9cup\u00e8re le pixel de joconde\n",
      "        monimage.putpixel((x,y),(R,V,B))  # On l'\u00e9crit dans monimage\n",
      "imshow(monimage)"
     ],
     "language": "python",
     "metadata": {},
     "outputs": []
    },
    {
     "cell_type": "heading",
     "level": 1,
     "metadata": {},
     "source": [
      "Faire tourner l'image"
     ]
    },
    {
     "cell_type": "markdown",
     "metadata": {},
     "source": [
      "Pour commencer, nous allons faire une sym\u00e9trie axiale de notre image. Quelques petits rappels math\u00e9matiques vont \u00eatre utiles avant d'attaquer notre joconde :"
     ]
    },
    {
     "cell_type": "code",
     "collapsed": false,
     "input": [
      "from IPython.display import HTML\n",
      "HTML('<iframe scrolling=\"no\" src=\"https://tube.geogebra.org/material/iframe/id/jCHdUW7i/width/800/height/503/border/888888/rc/false/ai/false/sdz/true/smb/false/stb/false/stbh/true/ld/false/sri/true/at/auto\" width=\"800px\" height=\"503px\" style=\"border:0px;\"> </iframe>')"
     ],
     "language": "python",
     "metadata": {},
     "outputs": []
    },
    {
     "cell_type": "markdown",
     "metadata": {},
     "source": [
      "D\u00e9placez le point $A$ et observez les coordon\u00e9es du point $A'$ sym\u00e9trique de $A$ par rapport \u00e0 la droite rouge. Que peut-on dire sur les coordonn\u00e9es des points $A$ et $A'$ ?"
     ]
    },
    {
     "cell_type": "heading",
     "level": 2,
     "metadata": {},
     "source": [
      "A vous de jouer"
     ]
    },
    {
     "cell_type": "markdown",
     "metadata": {},
     "source": [
      "Appliquez la m\u00eame sym\u00e9trie \u00e0 notre joconde. Pour cela, vous appliquerez ce que vous venez de remarquer sur les coordonn\u00e9es du sym\u00e9trique du point A lors de la recopie de joconde vers monimage.\n",
      "\n",
      "Compl\u00e9tez les pointill\u00e9s."
     ]
    },
    {
     "cell_type": "code",
     "collapsed": false,
     "input": [
      "# Sym\u00e9trie de la joconde.\n",
      "\n",
      "for x in range(l):\n",
      "    for y in range(h):\n",
      "        R,V,B=joconde.getpixel((x,y))     # On r\u00e9cup\u00e8re le pixel de joconde\n",
      "        monimage.putpixel((...,...),(R,V,B))  # On l'\u00e9crit dans monimage\n",
      "imshow(monimage)"
     ],
     "language": "python",
     "metadata": {},
     "outputs": []
    },
    {
     "cell_type": "heading",
     "level": 2,
     "metadata": {},
     "source": [
      "Et maintenant, la t\u00eate en bas !"
     ]
    },
    {
     "cell_type": "markdown",
     "metadata": {},
     "source": [
      "En vous aidant de l'animation *G\u00e9ogebra* ci-dessous, pourrez-vous deviner la transformation \u00e0 appliquer sur les cordonn\u00e9es pour renverser notre joconde ?\n",
      "\n",
      "***Indication*** : Pour renverser notre joconde, la droite rouge sera \u00e0 l'ordonn\u00e9e $y=128$ puisque notre image fait $256\\times 256$ pixels"
     ]
    },
    {
     "cell_type": "code",
     "collapsed": false,
     "input": [
      "HTML('<iframe scrolling=\"no\" src=\"https://tube.geogebra.org/material/iframe/id/572529/width/429/height/449/border/888888/rc/false/ai/false/sdz/true/smb/false/stb/false/stbh/true/ld/false/sri/true/at/auto\" width=\"429px\" height=\"449px\" style=\"border:0px;\"> </iframe>')"
     ],
     "language": "python",
     "metadata": {},
     "outputs": []
    },
    {
     "cell_type": "code",
     "collapsed": false,
     "input": [
      "# Sym\u00e9trie de la joconde - La t\u00eate en bas\n",
      "\n",
      "for x in range(l):\n",
      "    for y in range(h):\n",
      "        R,V,B=joconde.getpixel((x,y))     # On r\u00e9cup\u00e8re le pixel de joconde\n",
      "        monimage.putpixel((...,...),(R,V,B))  # On l'\u00e9crit dans monimage\n",
      "imshow(monimage)"
     ],
     "language": "python",
     "metadata": {},
     "outputs": []
    },
    {
     "cell_type": "markdown",
     "metadata": {},
     "source": [
      "renversant ! A pr\u00e9sent, nous allons nous int\u00e9resser au changement de r\u00e9solution - donc au changement de taille de l'image."
     ]
    },
    {
     "cell_type": "heading",
     "level": 2,
     "metadata": {},
     "source": [
      "R\u00e9duire la taille de l'image"
     ]
    },
    {
     "cell_type": "markdown",
     "metadata": {},
     "source": [
      "En vous aidant de l'animation *G\u00e9ogebra* ci-dessous, pourrez-vous deviner la transformation \u00e0 appliquer sur les cordonn\u00e9es pour r\u00e9duire notre joconde ? D\u00e9placez le point $M$ et observez les coordonn\u00e9es.\n"
     ]
    },
    {
     "cell_type": "code",
     "collapsed": false,
     "input": [
      "HTML('<iframe scrolling=\"no\" src=\"https://tube.geogebra.org/material/iframe/id/Yee6rGtd/width/478/height/452/border/888888/rc/false/ai/false/sdz/true/smb/false/stb/false/stbh/true/ld/false/sri/true/at/auto\" width=\"478px\" height=\"452px\" style=\"border:0px;\"> </iframe>')"
     ],
     "language": "python",
     "metadata": {},
     "outputs": []
    },
    {
     "cell_type": "code",
     "collapsed": false,
     "input": [
      "# R\u00e9duction\n",
      "\n",
      "# On cr\u00e9e une nouvelle image\n",
      "monimage=Image.new(\"RGB\",(l,h))\n",
      "\n",
      "for x in range(l):\n",
      "    for y in range(h):\n",
      "        R,V,B=joconde.getpixel((x,y))     # On r\u00e9cup\u00e8re le pixel de joconde\n",
      "        monimage.putpixel((...,...),(R,V,B))  # On l'\u00e9crit dans monimage\n",
      "imshow(monimage)"
     ],
     "language": "python",
     "metadata": {},
     "outputs": []
    },
    {
     "cell_type": "markdown",
     "metadata": {},
     "source": [
      "***Indication*** : Si vous obtenez un message d'erreur : \n",
      "*TypeError: integer argument expected, got float*, \n",
      "rappelez-vous de l'op\u00e9rateur **//** qu ipermet de faire une **division** en retournant un r\u00e9sultat sous forme d'un nombre **entier** !"
     ]
    },
    {
     "cell_type": "markdown",
     "metadata": {},
     "source": [
      "Tout cet espace noir, c'est quand m\u00eame dommage ! et si nous le compl\u00e9tions un peu ... VOici deux mani\u00e8res de combler cet espace."
     ]
    },
    {
     "cell_type": "heading",
     "level": 2,
     "metadata": {},
     "source": [
      "Monalisa au photomaton"
     ]
    },
    {
     "cell_type": "markdown",
     "metadata": {},
     "source": [
      "Dans cette activit\u00e9, vous allez essayer de reproduire cette photo - effet photomaton !\n",
      "![](http://s25.postimg.org/jmsd8nwzz/index.png)"
     ]
    },
    {
     "cell_type": "code",
     "collapsed": false,
     "input": [
      "# Photomaton\n",
      "\n",
      "# On cr\u00e9e une nouvelle image\n",
      "monimage=Image.new(\"RGB\",(l,h))\n",
      "\n",
      "# A vous de jouer\n",
      "\n",
      "# ... \n",
      "\n",
      "imshow(monimage)"
     ],
     "language": "python",
     "metadata": {},
     "outputs": []
    },
    {
     "cell_type": "heading",
     "level": 2,
     "metadata": {},
     "source": [
      "Monalisa avec effet photomaton et sym\u00e9tries !"
     ]
    },
    {
     "cell_type": "markdown",
     "metadata": {},
     "source": [
      "A pr\u00e9sent, vous allez appliquer ce que vous avez vu sur les sym\u00e9tries pour obtenir l'image suivante :\n",
      "![](http://s25.postimg.org/lsmo360gf/index.png)"
     ]
    },
    {
     "cell_type": "code",
     "collapsed": false,
     "input": [
      "# Photomaton\n",
      "\n",
      "# On cr\u00e9e une nouvelle image\n",
      "monimage=Image.new(\"RGB\",(l,h))\n",
      "\n",
      "# A vous de jouer\n",
      "\n",
      "# ... \n",
      "\n",
      "imshow(monimage)"
     ],
     "language": "python",
     "metadata": {},
     "outputs": []
    },
    {
     "cell_type": "heading",
     "level": 1,
     "metadata": {},
     "source": [
      "Agrandissement"
     ]
    },
    {
     "cell_type": "markdown",
     "metadata": {},
     "source": [
      "Dans cette partie, nous allons faire l'op\u00e9ration inverse de la partie pr\u00e9c\u00e9dente : zoomer sur l'image. \n",
      "\n",
      "L'objectif \u00e0 atteindre sera l'image ci-dessous dans laquelle la portion de l'image entre les pixels 0 et 127 (en x et y) sera agrandie sur la totalit\u00e9 de la nouvelle image *monimage*.\n",
      "\n",
      "Si vous vous rappelez quelle op\u00e9ration math\u00e9matique nous a permi de r\u00e9duire l'image, vous devinnerez sans peine celle qui nous permettra de l'agrandir !"
     ]
    },
    {
     "cell_type": "code",
     "collapsed": false,
     "input": [
      "# Agrandissement\n",
      "\n",
      "# On cr\u00e9e une nouvelle image\n",
      "monimage=Image.new(\"RGB\",(l,h))\n",
      "\n",
      "for x in range(...):\n",
      "    for y in range(...):\n",
      "        R,V,B=joconde.getpixel((x,y))     # On r\u00e9cup\u00e8re le pixel de joconde\n",
      "        monimage.putpixel((...,...),(R,V,B))  # On l'\u00e9crit dans monimage\n",
      "imshow(monimage)"
     ],
     "language": "python",
     "metadata": {},
     "outputs": []
    },
    {
     "cell_type": "markdown",
     "metadata": {},
     "source": [
      "Beark ! notre joconde est toute sombre, elle a perdu ses couleurs ! et on voit une sorte de quadrillage pourquoi ?\n",
      "\n",
      "Zoomons un peu sur l'image : voici ce que nous obtenons :\n",
      "![](http://s25.postimg.org/xvrzqqbin/index.png)\n",
      "\n",
      "En effet, l'effet d'agrandissement fait que nous n'\u00e9crivons qu'un pixel sur deux dans notre nouvellle image, ce qui laisse un espace vide entre chaque pixel. C'est tout \u00e0 fait normal, en zoomant, notre image va perdre en d\u00e9finition - c'est in\u00e9vitable.\n",
      "\n",
      "Pour am\u00e9liorer un peu les choses, nous pouvons essayer de combler les pixels manquants par une recopie du pixel voisin. Cela n'am\u00e9liorera pas la d\u00e9finition de l'image mais cela permettra d'\u00e9liminer l'effet de grille et d'assombrissement de l'image.\n",
      "\n",
      "A vous de jouer. Reprenez le proramme pr\u00e9c\u00e9dent en \u00e9crivant cette fois ci non plus un pixel mais **4 pixel identiques** pour chaque pixel lu sur l'image d'origine."
     ]
    },
    {
     "cell_type": "code",
     "collapsed": false,
     "input": [
      "# Agrandissement\n",
      "\n",
      "# On cr\u00e9e une nouvelle image\n",
      "monimage=Image.new(\"RGB\",(l,h))\n",
      "\n",
      "# ...\n",
      "\n",
      "imshow(monimage)"
     ],
     "language": "python",
     "metadata": {},
     "outputs": []
    },
    {
     "cell_type": "markdown",
     "metadata": {},
     "source": [
      "A partir de cette image, refa\u00eetes un zoom mais cette fois-ci sur le quart inf\u00e9rieur droit de l'image (le bas du visage). La encore, vous utiliserez la m\u00eame technique pour limiter l'effet de grille.\n",
      "\n",
      "***Indication*** : vous partirez de **monimage** et zoomerez dans une nouvelle image nomm\u00e9e **monimage2**"
     ]
    },
    {
     "cell_type": "code",
     "collapsed": false,
     "input": [
      "# Agrandissement\n",
      "\n",
      "# On cr\u00e9e une nouvelle image\n",
      "monimage2=Image.new(\"RGB\",(l,h))\n",
      "\n",
      "# ...\n",
      "        \n",
      "imshow(monimage2)"
     ],
     "language": "python",
     "metadata": {},
     "outputs": []
    },
    {
     "cell_type": "markdown",
     "metadata": {},
     "source": [
      "Recommencez une nouvelle fois cette op\u00e9ration sur le quart sup\u00e9rieur droit de l'image.\n",
      "\n",
      "***Indication*** : vous partirez de **monimage2** et zoomerez dans une nouvelle image nomm\u00e9e **monimage3**"
     ]
    },
    {
     "cell_type": "code",
     "collapsed": false,
     "input": [
      "# Agrandissement\n",
      "\n",
      "# On cr\u00e9e une nouvelle image\n",
      "monimage3=Image.new(\"RGB\",(l,h))\n",
      "\n",
      "# ...\n",
      "\n",
      "imshow(monimage3)"
     ],
     "language": "python",
     "metadata": {},
     "outputs": []
    },
    {
     "cell_type": "markdown",
     "metadata": {},
     "source": [
      "Cette fois-ci, l'effet de *pix\u00e9lisation* est tr\u00e8s visible. Il est du au fait que nous reconstruisons les pixels manquants dans l'image zomm\u00e9e par recopie de pixels existants. Cela fabrique donc ces zonnes carr\u00e9es de couleur uniforme."
     ]
    },
    {
     "cell_type": "code",
     "collapsed": false,
     "input": [],
     "language": "python",
     "metadata": {},
     "outputs": []
    }
   ],
   "metadata": {}
  }
 ]
}