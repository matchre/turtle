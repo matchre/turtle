{
 "metadata": {
  "name": "",
  "signature": "sha256:1b8ebe0159aa3c0583ee03acc7cd869f4f276fd0788bd3bc3105ff0d450a40a8"
 },
 "nbformat": 3,
 "nbformat_minor": 0,
 "worksheets": [
  {
   "cells": [
    {
     "cell_type": "heading",
     "level": 1,
     "metadata": {},
     "source": [
      "Dessiner des spirales et des motifs"
     ]
    },
    {
     "cell_type": "markdown",
     "metadata": {},
     "source": [
      "Nous allons dans ce classeur dessiner des formes un peu plus \u00e9labor\u00e9es \u00e0 commencer par des spirales. Nous avons vu dans l'activit\u00e9 pr\u00e9c\u00e9dente comment on pouvait dessiner des polygones r\u00e9guliers.\n",
      "\n",
      "Les polygones r\u00e9guliers ont tous des cot\u00e9s de m\u00eame longueur. Ici, nous allons reprendre le m\u00eame principe mais avec des cot\u00e9s dont la longueur varie \u00e0 chaque tour de boucle. Observez le programme ci-dessous et ex\u00e9cutez-le."
     ]
    },
    {
     "cell_type": "code",
     "collapsed": false,
     "input": [
      "from turtle import *\n",
      "\n",
      "u=10\n",
      "speed(0)\n",
      "\n",
      "for i in range(20) :\n",
      "    forward(i*u)\n",
      "    left(90)\n",
      "\n",
      "exitonclick() "
     ],
     "language": "python",
     "metadata": {},
     "outputs": []
    },
    {
     "cell_type": "markdown",
     "metadata": {},
     "source": [
      "Remarquez au passage la pr\u00e9sence de l'instruction ***speed(0)*** qui transforme votre tortue en li\u00e8vre de comp\u00e9tition !"
     ]
    },
    {
     "cell_type": "markdown",
     "metadata": {},
     "source": [
      "A pr\u00e9sent, recopiez ce programme en le modifiant de mani\u00e8re \u00e0 obtenir une spirale plus resserr\u00e9e et plus longue comme ceci :\n",
      "![](http://s25.postimg.org/4zok7ofrj/Capture_du_2014_11_30_08_55_08.png)"
     ]
    },
    {
     "cell_type": "code",
     "collapsed": false,
     "input": [
      "# Cr\u00e9ez votre programme ici\n"
     ],
     "language": "python",
     "metadata": {},
     "outputs": []
    },
    {
     "cell_type": "markdown",
     "metadata": {},
     "source": [
      "\u00e0 pr\u00e9sent, en vous inspirant de ce qui a \u00e9t\u00e9 vu au classeur pr\u00e9c\u00e9dent, vous allez pouvoir construire les spirales suivantes :\n",
      "![](http://s25.postimg.org/75iv26j7z/Capture_du_2014_11_30_09_03_55.png)"
     ]
    },
    {
     "cell_type": "code",
     "collapsed": false,
     "input": [
      "# Cr\u00e9ez votre programme ici\n"
     ],
     "language": "python",
     "metadata": {},
     "outputs": []
    },
    {
     "cell_type": "markdown",
     "metadata": {},
     "source": [
      "Puis celle-ci :\n",
      "![](http://s25.postimg.org/lpzxx0e6n/Capture_du_2014_11_30_09_05_48.png)"
     ]
    },
    {
     "cell_type": "code",
     "collapsed": false,
     "input": [
      "# Cr\u00e9ez votre programme ici\n"
     ],
     "language": "python",
     "metadata": {},
     "outputs": []
    },
    {
     "cell_type": "markdown",
     "metadata": {},
     "source": [
      "et enfin celle-ci :\n",
      "![](http://s25.postimg.org/j9y4j5w3z/Capture_du_2014_11_30_09_10_01.png)"
     ]
    },
    {
     "cell_type": "code",
     "collapsed": false,
     "input": [
      "# Cr\u00e9ez votre programme ici\n"
     ],
     "language": "python",
     "metadata": {},
     "outputs": []
    },
    {
     "cell_type": "markdown",
     "metadata": {},
     "source": [
      "Ces spirales commencent \u00e0 s'arrondir mais on voit sur les parties ext\u00e9rieures qu'elles sont constitu\u00e9es de segments de droites et ne sont pas tr\u00e8s arrondies en r\u00e9alit\u00e9. Nous souhaiterions obtenir de beaux arcs de cercles \u00e0 la place. Il est temps de d\u00e9couvrir un nouveau pouvoir de notre tortue : les arcs de cercle !\n",
      "\n",
      "Au passage, observez comment je peux d\u00e9placer ma tortue ou je veux sans laisser de trace."
     ]
    },
    {
     "cell_type": "code",
     "collapsed": false,
     "input": [
      "from turtle import *\n",
      "\n",
      "penup()       # Je l\u00e8ve le crayon\n",
      "goto(-100,0)  # Je me d\u00e9place \n",
      "pendown()     # Je pose le crayon\n",
      "# Je sais tracer des cercles !\n",
      "circle(100)\n",
      "\n",
      "penup()\n",
      "goto(100,0)\n",
      "pendown()\n",
      "# Je sais tarcer des arcs de cercle aussi !\n",
      "circle(100,90)\n",
      "\n",
      "exitonclick()"
     ],
     "language": "python",
     "metadata": {},
     "outputs": []
    },
    {
     "cell_type": "markdown",
     "metadata": {},
     "source": [
      "En reprenant le premier exemple de cette activit\u00e9 avec la spirale carr\u00e9e et en l'adaptant en utilisant les arcs de cercles, dessiner la spirale ci-dessous. Remarquez le bel arrondi obtenu, m\u00eame sur l'ext\u00e9rieur de la spirale.\n",
      "![](http://s25.postimg.org/dn1rlotlb/Capture_du_2014_11_30_09_23_51.png)"
     ]
    },
    {
     "cell_type": "code",
     "collapsed": false,
     "input": [
      "# Cr\u00e9ez votre programme ici\n"
     ],
     "language": "python",
     "metadata": {},
     "outputs": []
    },
    {
     "cell_type": "markdown",
     "metadata": {},
     "source": [
      "On peut aussi ajouter un effet de profondeur en grossissant la taille du trait au fur \u00e0 mesure qu'on progresse dans le trac\u00e9 de la spirale. Pour cela, ajoutez dans votre boucle l'instruction\n",
      "\n",
      "    pensize(i/16)\n",
      "    \n",
      "qui permet de r\u00e9gler la taille du trait."
     ]
    },
    {
     "cell_type": "code",
     "collapsed": false,
     "input": [
      "# Cr\u00e9ez votre programme ici\n"
     ],
     "language": "python",
     "metadata": {},
     "outputs": []
    },
    {
     "cell_type": "heading",
     "level": 1,
     "metadata": {},
     "source": [
      "Motifs en spirale"
     ]
    },
    {
     "cell_type": "markdown",
     "metadata": {},
     "source": [
      "Notre tortue sait faire aussi de beaux motifs g\u00e9om\u00e9triques \u00e0 l'aide d'une simple boucle. Regardez plut\u00f4t l'exemple qui suit :"
     ]
    },
    {
     "cell_type": "code",
     "collapsed": false,
     "input": [
      "from turtle import *\n",
      "\n",
      "speed(0)\n",
      "\n",
      "for i in range(36):\n",
      "    right(10)\n",
      "    for j in range(36):\n",
      "        right(10)\n",
      "        forward(20)\n",
      "        \n",
      "exitonclick() "
     ],
     "language": "python",
     "metadata": {},
     "outputs": []
    },
    {
     "cell_type": "markdown",
     "metadata": {},
     "source": [
      "Essayez de comprendre le fonctionnement de ce programme. Quel est le r\u00f4le de la premi\u00e8re boucle ? de la seconde. Pour ce faire, vous pouvez vous amuser \u00e0 changer des valeurs dans ce programme et observer les effets.\n",
      "\n",
      "Vous avez compris ? Bien. A pr\u00e9sent \u00e0 vous de jouer. Recopiez et modifiez le programme pr\u00e9c\u00e9dent afin de diviser par deux le nombre de cercles sur le motif."
     ]
    },
    {
     "cell_type": "code",
     "collapsed": false,
     "input": [
      "# Votre programme ici"
     ],
     "language": "python",
     "metadata": {},
     "outputs": []
    },
    {
     "cell_type": "heading",
     "level": 2,
     "metadata": {},
     "source": [
      "Une autre figure"
     ]
    },
    {
     "cell_type": "code",
     "collapsed": false,
     "input": [
      "from turtle import *\n",
      "\n",
      "speed(0) # Sinon la tortue m\u00e9rite bien son nom\n",
      "\n",
      "nbFig=200\n",
      "\n",
      "u=100\n",
      "angle=90\n",
      "for i in range(nbFig):\n",
      "    for b in range(2):\n",
      "        forward(u+i)\n",
      "        right(angle+b)\n",
      "\n",
      "exitonclick()"
     ],
     "language": "python",
     "metadata": {},
     "outputs": []
    },
    {
     "cell_type": "markdown",
     "metadata": {},
     "source": [
      "Une fois encore, tentez de comprendre le fonctionnement de ce programme. Quel est le r\u00f4le de la premi\u00e8re boucle ? de la seconde. Pour ce faire, vous pouvez vous amuser \u00e0 changer des valeurs dans ce programme et observer les effets.\n",
      "\n",
      "Vous avez compris ? Bien. A pr\u00e9sent \u00e0 vous de jouer. Recopiez et modifiez le programme pr\u00e9c\u00e9dent afin d'obtenir le motif suivant :\n",
      "![](http://s25.postimg.org/v4xwamjm7/Capture_d_cran_2014_12_01_19_04_03.png)"
     ]
    },
    {
     "cell_type": "code",
     "collapsed": false,
     "input": [
      "# Votre programme ici"
     ],
     "language": "python",
     "metadata": {},
     "outputs": []
    },
    {
     "cell_type": "markdown",
     "metadata": {},
     "source": [
      "Vous pouvez aussi vous amuser a augmenter le nombre de cot\u00e9s pour obtenir de nouvelles figures (bas\u00e9es sur un pentagone, un hexagone etc...)"
     ]
    },
    {
     "cell_type": "heading",
     "level": 2,
     "metadata": {},
     "source": [
      "Motif surprise : le tapis de Sierpinski"
     ]
    },
    {
     "cell_type": "markdown",
     "metadata": {},
     "source": [
      "***Attention*** ce motif est un peu long \u00e0 tracer mais l'atente vaut la peine :)\n",
      "\n",
      "Le fonctionnement de ce programme d\u00e9passe largement le cadre de notre activit\u00e9 en MPS. Il permet juste de montrer que malgr\u00e9 la simplicit\u00e9 des ordres que l'on passe \u00e0 notre tortue, on peut r\u00e9aliser des motifs d'une complexit\u00e9 incroyable. Le motif que vous avez sous les yeux est ce qu'on appelle une fractale. C'est une image pr\u00e9sentant la m\u00eame structure quelque soit ne niveau de zoom avec lequel vous la regardez.\n",
      "\n",
      "Sans plus attendre, validez la celluce ci-dessous pour terminer ce classeur."
     ]
    },
    {
     "cell_type": "code",
     "collapsed": false,
     "input": [
      "from turtle import *\n",
      "\n",
      "speed(0)\n",
      "penup()\n",
      "goto(-200,-200)\n",
      "pendown()\n",
      "\n",
      "def sierp(size=400,sides=3):\n",
      "    for i in range(sides):\n",
      "        forward(size)\n",
      "        left(360/sides)\n",
      "        if size>=10:\n",
      "            sierp(size/2,sides)\n",
      "\n",
      "sierp()\n",
      "\n",
      "exitonclick()"
     ],
     "language": "python",
     "metadata": {},
     "outputs": []
    }
   ],
   "metadata": {}
  }
 ]
}