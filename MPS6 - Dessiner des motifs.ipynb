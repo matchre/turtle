{
 "metadata": {
  "name": "",
  "signature": "sha256:8781646b8fc32d799db61bdb60afa38d058ae5fdc81702fb52cdcdfcbcf73ee9"
 },
 "nbformat": 3,
 "nbformat_minor": 0,
 "worksheets": [
  {
   "cells": [
    {
     "cell_type": "heading",
     "level": 1,
     "metadata": {},
     "source": [
      "Dessiner des motifs"
     ]
    },
    {
     "cell_type": "markdown",
     "metadata": {},
     "source": [
      "Rappelez-vous dans les classeurs pr\u00e9c\u00e9dents : nous avons introduit en algorithmique les *structures conditionnelles* : ***Si ... Alors ... Sinon***. Nous allons les utiliser dans ce classeur pour dessiner des motifs g\u00e9om\u00e9triques."
     ]
    },
    {
     "cell_type": "markdown",
     "metadata": {},
     "source": [
      "Pour commencer, regardez le programme suivant, permettant de dessiner une bande de couleur."
     ]
    },
    {
     "cell_type": "heading",
     "level": 2,
     "metadata": {},
     "source": [
      "D\u00e9couverte du ET"
     ]
    },
    {
     "cell_type": "code",
     "collapsed": false,
     "input": [
      "%pylab inline\n",
      "from PIL import Image\n",
      "\n",
      "R=255\n",
      "V=255\n",
      "B=0\n",
      "\n",
      "w,h=320,240\n",
      "\n",
      "monimage=Image.new(\"RGB\",(w,h))\n",
      "\n",
      "for y in range(h):\n",
      "    for x in range(w):\n",
      "        if x>100 and x<200:\n",
      "            monimage.putpixel((x,y),(R+x, V-x,y))\n",
      "\n",
      "imshow(monimage)"
     ],
     "language": "python",
     "metadata": {},
     "outputs": []
    },
    {
     "cell_type": "markdown",
     "metadata": {},
     "source": [
      "Ce programme reprend le m\u00eame code que dans le classeur pr\u00e9c\u00e9dent, \u00e0 la diff\u00e9rence que nous ne colorisons les pixels qu'\u00e0 la *condition* que *x soit sup\u00e9rieur \u00e0 100* ***et que*** *x soit inf\u00e9rieur \u00e0 200*. Pour r\u00e9unir deux condition \u00e0 l'aide d'un **et***, on utilise le mot cl\u00e9 python ***and***.\n",
      "\n",
      "Modifier ce programme afin que la bande de couleur soit entre $x=150$ et $x=250$"
     ]
    },
    {
     "cell_type": "code",
     "collapsed": false,
     "input": [
      "# Coller votre programme modifi\u00e9 ici"
     ],
     "language": "python",
     "metadata": {},
     "outputs": []
    },
    {
     "cell_type": "markdown",
     "metadata": {},
     "source": [
      "A pr\u00e9sent, modifiez votre programme afin d'obtenir la figure ci-dessous :\n",
      "![](http://s25.postimg.org/j00ay7pov/index.png)"
     ]
    },
    {
     "cell_type": "code",
     "collapsed": false,
     "input": [
      "# Collez votre code ici\n"
     ],
     "language": "python",
     "metadata": {},
     "outputs": []
    },
    {
     "cell_type": "heading",
     "level": 2,
     "metadata": {},
     "source": [
      "D\u00e9couverte du OU"
     ]
    },
    {
     "cell_type": "markdown",
     "metadata": {},
     "source": [
      "Ecrire un programme r\u00e9alisant la figure ci-dessous :\n",
      "![](http://s25.postimg.org/by2dc0m33/index.png)"
     ]
    },
    {
     "cell_type": "code",
     "collapsed": false,
     "input": [
      "# Collez votre code ici\n"
     ],
     "language": "python",
     "metadata": {},
     "outputs": []
    },
    {
     "cell_type": "markdown",
     "metadata": {},
     "source": [
      "A pr\u00e9sent, transformez la condition afin d'obtenir l'image suivante.\n",
      "![](http://s25.postimg.org/70osqwk3z/index.png)\n",
      "***indication*** : Vous pourrez utiliser le connecteur logique ***ou*** qui en Python se traduit par le mot cl\u00e9 ***or***"
     ]
    },
    {
     "cell_type": "code",
     "collapsed": false,
     "input": [
      "# Collez votre code ici\n"
     ],
     "language": "python",
     "metadata": {},
     "outputs": []
    },
    {
     "cell_type": "markdown",
     "metadata": {},
     "source": [
      "Pour terminer, vous r\u00e9aliserez un programme dessinant la figure suivante. \n",
      "![](http://s25.postimg.org/w7zor5n7z/index.png)\n",
      "Pour cela, vous n'utiliserez toujours qu'une seule condition mais pouvant comporter plusieurs conditions simples reli\u00e9es entre elles par des ***ET*** ou des ***OU***"
     ]
    },
    {
     "cell_type": "code",
     "collapsed": false,
     "input": [
      "# Collez votre code ici\n"
     ],
     "language": "python",
     "metadata": {},
     "outputs": []
    },
    {
     "cell_type": "heading",
     "level": 3,
     "metadata": {},
     "source": [
      "Une image en pointill\u00e9"
     ]
    },
    {
     "cell_type": "markdown",
     "metadata": {},
     "source": [
      "A pr\u00e9sent, nous allons dessiner une mutlitude de petits carr\u00e9s dans notre image.\n",
      "![](http://s25.postimg.org/f8vbpn1e7/index.png)\n",
      "Pour cela, nous allons d\u00e9couvrir une nouvelle op\u00e9ration math\u00e9matique : le ***modulo***"
     ]
    },
    {
     "cell_type": "heading",
     "level": 3,
     "metadata": {},
     "source": [
      "D\u00e9couverte du modulo"
     ]
    },
    {
     "cell_type": "markdown",
     "metadata": {},
     "source": [
      "Le ***modulo*** est le *reste* de la division d'un nombre par un autre. \n",
      "\n",
      "Exemple : 73 ***modulo*** 60 vaut 13 car quand on divise 73 par 60, il ***reste*** 13. Simple non ?\n",
      "\n",
      "En python, pour calculer ce reste, on utilise l'op\u00e9rateur ***%*** :"
     ]
    },
    {
     "cell_type": "code",
     "collapsed": false,
     "input": [
      "73%60"
     ],
     "language": "python",
     "metadata": {},
     "outputs": []
    },
    {
     "cell_type": "markdown",
     "metadata": {},
     "source": [
      "En fait cette op\u00e9ration ***modulo*** est quelque chose que vous manipulez depuis votre enfance quand vous consid\u00e9rez les minutes sur une pendule : Compter les minutes c'est compter modulo 60 ! Si votre grande aiguille indique 0 et que vous patientez 73 minutes, au final, la grande aiguille indiquera 13 !\n",
      "\n",
      "Question : Si votre aiguille est sur 0 et que vous patientez 274793 minutes, au final, quel minute indiquera t-elle ? Aidez-vous de la cellule ci-dessous pour faire le calcul."
     ]
    },
    {
     "cell_type": "code",
     "collapsed": false,
     "input": [
      "# Tapez votre op\u00e9ration ici"
     ],
     "language": "python",
     "metadata": {},
     "outputs": []
    },
    {
     "cell_type": "markdown",
     "metadata": {},
     "source": [
      "Comme le reste dans une division est toujours inf\u00e9rieur au diviseur, un nombre modulo 60 sera toujours ***inf\u00e9rieur*** \u00e0 60. De m\u00eame un  un nombre modulo 5 sera toujours ***inf\u00e9rieur*** \u00e0 5. Si on compte modulo 5, arriv\u00e9 \u00e0 4, nous repartirons \u00e0 0. observez ce ph\u00e9nom\u00e8ne sur l'exemple suivant :"
     ]
    },
    {
     "cell_type": "code",
     "collapsed": false,
     "input": [
      "for i in range(15):\n",
      "    print(\"Je compte modulo 5 :\",i%5)"
     ],
     "language": "python",
     "metadata": {},
     "outputs": []
    },
    {
     "cell_type": "heading",
     "level": 3,
     "metadata": {},
     "source": [
      "Application \u00e0 notre activit\u00e9"
     ]
    },
    {
     "cell_type": "markdown",
     "metadata": {},
     "source": [
      "Gr\u00e2ce au modulo qui cr\u00e9e une r\u00e9p\u00e9tition des nombres, nous allons pouvoir fabriquer des motifs qui se r\u00e9p\u00e8tent. Observez le programme ci-dessous :"
     ]
    },
    {
     "cell_type": "code",
     "collapsed": false,
     "input": [
      "%pylab inline\n",
      "from PIL import Image\n",
      "\n",
      "R=255\n",
      "V=255\n",
      "B=0\n",
      "\n",
      "w,h=320,240\n",
      "\n",
      "monimage=Image.new(\"RGB\",(w,h))\n",
      "\n",
      "for y in range(h):\n",
      "    for x in range(w):\n",
      "        if x%30<15 :\n",
      "            monimage.putpixel((x,y),(R+x, V-x,y))\n",
      "\n",
      "imshow(monimage)"
     ],
     "language": "python",
     "metadata": {},
     "outputs": []
    },
    {
     "cell_type": "markdown",
     "metadata": {},
     "source": [
      "Voyez comment les bandes apparaissent : On compte l'abscisse *x* modulo 30. Si ce calcul est inf\u00e9rieur \u00e0 15, on colorie le pixel. Si on ajoute 30 \u00e0 *x*, on va r\u00e9p\u00e9ter le m\u00eame type motif, ce qui donne ce dessin de bandes de largeur 15 qui se r\u00e9p\u00e8tent tous les 30 pixels.\n",
      "\n",
      "Vous poss\u00e9dez \u00e0 pr\u00e9sent le secret pour dessiner la figure ci-dessous :\n",
      "A pr\u00e9sent, nous allons dessiner une mutlitude de petits carr\u00e9s dans notre image.\n",
      "![](http://s25.postimg.org/f8vbpn1e7/index.png)"
     ]
    },
    {
     "cell_type": "code",
     "collapsed": false,
     "input": [
      "# Collez votre programme ici\n"
     ],
     "language": "python",
     "metadata": {},
     "outputs": []
    },
    {
     "cell_type": "markdown",
     "metadata": {},
     "source": [
      "Et par une toute petite modification, vous devriez pouvoir obtenir la figure ci-dessous \u00e9galement :\n",
      "![](http://s25.postimg.org/cu3g57l5b/index.png)"
     ]
    },
    {
     "cell_type": "code",
     "collapsed": false,
     "input": [
      "# Collez votre programme ici\n"
     ],
     "language": "python",
     "metadata": {},
     "outputs": []
    },
    {
     "cell_type": "markdown",
     "metadata": {},
     "source": [
      "Amusez-vous \u00e0 changer les valeurs afin d'obtenir d'autres tailles de grilles"
     ]
    },
    {
     "cell_type": "code",
     "collapsed": false,
     "input": [
      "# Collez votre programme ici\n"
     ],
     "language": "python",
     "metadata": {},
     "outputs": []
    },
    {
     "cell_type": "heading",
     "level": 2,
     "metadata": {},
     "source": [
      "Peut-on faire des cercles ??"
     ]
    },
    {
     "cell_type": "markdown",
     "metadata": {},
     "source": [
      "Les carr\u00e9s c'est bien joli mais les comment fait-on un disque ? Qu'est-ce qu'un disque ? c'est l'ensemble de tous les points situ\u00e9s \u00e0 une distance inf\u00e9rieure au rayon du centre de ce disque.\n",
      "\n",
      "Il nous faut donc une fonction distance ! la voici mais elle est incompl\u00e8te. A vous de puiser dans vos souvenirs de cours de maths sur le chapitre des rep\u00e8res pour compl\u00e9ter la formule manquante !"
     ]
    },
    {
     "cell_type": "code",
     "collapsed": false,
     "input": [
      "from math import sqrt\n",
      "\n",
      "def distance (A,B):\n",
      "    # A et B sont deux points pass\u00e9s en param\u00e8tres \u00e0 notre fonction\n",
      "    # On r\u00e9cup\u00e8re les coordonn\u00e9es des points A et B pour les calculs\n",
      "    xA=A[0] # abscisse de A\n",
      "    yA=A[1] # Ordonn\u00e9e de A\n",
      "    xB=B[0] # Abscisse de B\n",
      "    yB=B[1] # Ordonn\u00e9e de B\n",
      "    \n",
      "    # Compl\u00e9ter la formule\n",
      "    # La racine carr\u00e9e se calcule par la fonction sqrt()\n",
      "    # Le carr\u00e9 de x se calcule par x**2\n",
      "    distance=...\n",
      "    \n",
      "    return distance"
     ],
     "language": "python",
     "metadata": {},
     "outputs": []
    },
    {
     "cell_type": "markdown",
     "metadata": {},
     "source": [
      "Testons notre fonction distance pour calculer la distance entre $A(-3;2)$ et $B(2;5)$"
     ]
    },
    {
     "cell_type": "code",
     "collapsed": false,
     "input": [
      "# On d\u00e9finit nos points A et B\n",
      "A=(-3,2)\n",
      "B=(2,5)\n",
      "\n",
      "# On calcule la dstance AB\n",
      "print(\"AB=\",distance(A,B))"
     ],
     "language": "python",
     "metadata": {},
     "outputs": []
    },
    {
     "cell_type": "markdown",
     "metadata": {},
     "source": [
      "Si votre fonction distance est au point, vous devriez avoir l'affichage \n",
      "\n",
      "    AB= 5.830951894845301"
     ]
    },
    {
     "cell_type": "heading",
     "level": 2,
     "metadata": {},
     "source": [
      "Application \u00e0 notre probl\u00e9matique"
     ]
    },
    {
     "cell_type": "markdown",
     "metadata": {},
     "source": [
      "A pr\u00e9sent, vous avez tous les outils n\u00e9cessaires pour dessiner un disque centr\u00e9 sur le point $O(160,120)$ et de rayon 50 pixels. A vous de jouer"
     ]
    },
    {
     "cell_type": "code",
     "collapsed": false,
     "input": [
      "# Collez votre programme ici\n"
     ],
     "language": "python",
     "metadata": {},
     "outputs": []
    },
    {
     "cell_type": "code",
     "collapsed": false,
     "input": [],
     "language": "python",
     "metadata": {},
     "outputs": []
    }
   ],
   "metadata": {}
  }
 ]
}