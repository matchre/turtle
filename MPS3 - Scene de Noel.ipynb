{
 "metadata": {
  "name": "",
  "signature": "sha256:b4671488148ebc4deb7e69fb77a1f8d72446c059450a19ece52fdfe4a8692157"
 },
 "nbformat": 3,
 "nbformat_minor": 0,
 "worksheets": [
  {
   "cells": [
    {
     "cell_type": "heading",
     "level": 1,
     "metadata": {},
     "source": [
      "Sc\u00e8ne de No\u00ebl "
     ]
    },
    {
     "cell_type": "markdown",
     "metadata": {},
     "source": [
      "Admirez cette superbe \u00e9toire \u00e0 5 branches. Vous regarderez au passage comment remplir avec une couleur l'int\u00e9rieur d'une zone d\u00e9limit\u00e9e par la tortue. Nous utilisons pour cela les commandes\n",
      "- fillcolor()\n",
      "- begin_fill()\n",
      "- end_fill()\n",
      "\n",
      "qui sont expliqu\u00e9es dans le programme"
     ]
    },
    {
     "cell_type": "code",
     "collapsed": false,
     "input": [
      "from turtle import *\n",
      "\n",
      "u=100\n",
      "\n",
      "right(36)\n",
      "\n",
      "fillcolor(\"yellow\") # La couleur de remplissage\n",
      "begin_fill()        # On indique qu'on commence le remplissage\n",
      "for k in range(5) :\n",
      "    forward(2*u)\n",
      "    left(144)\n",
      "end_fill()          # On arr\u00e8te le remplissage\n",
      "\n",
      "exitonclick()"
     ],
     "language": "python",
     "metadata": {},
     "outputs": []
    },
    {
     "cell_type": "markdown",
     "metadata": {},
     "source": [
      "Nous souhaitons \u00e0 pr\u00e9sent r\u00e9aliser ce magnifique ciel \u00e9toil\u00e9 : apr\u00e8s tout c'est bient\u00f4t no\u00ebl :)\n",
      "\n",
      "![](http://s25.postimg.org/r58nxz5qn/Capture_du_2014_11_30_11_24_47.png)\n",
      "\n",
      "Tout d'abord posons le d\u00e9cor. Celui-ci est constitu\u00e9 d'un rectangle noir de 800 pas de large sur 600 pas de haut. Le coin sup\u00e9rieur gauche aura donc pour coordonn\u00e9es (-400,-300) si on souhaite le centrer dans la page."
     ]
    },
    {
     "cell_type": "code",
     "collapsed": false,
     "input": [
      "# Posez votre d\u00e9cor ici\n"
     ],
     "language": "python",
     "metadata": {},
     "outputs": []
    },
    {
     "cell_type": "markdown",
     "metadata": {},
     "source": [
      "Ajoutons \u00e0 pr\u00e9sent des \u00e9toiles. Les \u00e9toiles n'ont pas toutes la m\u00eame taille. Nous allons donc cr\u00e9er des nombres al\u00e9atoires (pris au hasard) entre 1 et 20. Comment fait-on cela en python ? regardez ci-dessous :"
     ]
    },
    {
     "cell_type": "code",
     "collapsed": false,
     "input": [
      "from random import *\n",
      "\n",
      "u=randint(1,20) # u est un nombre al\u00e9atoire entre 1 et 20\n",
      "print (u)"
     ],
     "language": "python",
     "metadata": {},
     "outputs": []
    },
    {
     "cell_type": "markdown",
     "metadata": {},
     "source": [
      "Pour s'assurer que ces nombres sont bien choisis au hasard, comme un d\u00e9 \u00e0 20 faces que l'on jetterait, affichez 20 nombres al\u00e9atoires. Bien s\u00fbr, vous n'allez pas recopier 20 fois ces lignes non ?? :)"
     ]
    },
    {
     "cell_type": "code",
     "collapsed": false,
     "input": [
      "# Votre programme ici\n"
     ],
     "language": "python",
     "metadata": {},
     "outputs": []
    },
    {
     "cell_type": "markdown",
     "metadata": {},
     "source": [
      "Bien, ces nombres sont effectivement choisis au hasard. Maintenant, vous allez cr\u00e9er une \u00e9toile de taille al\u00e9atoire dans votre d\u00e9cor cr\u00e9\u00e9 pr\u00e9c\u00e9demment. Vous placerez cette \u00e9toile au centre de la fen\u00eatre (aux coordonn\u00e9es (0,0))\n",
      "\n",
      "***Conseil*** : Votre programme va vite se rallonger au fur \u00e0 mesure des \u00e9l\u00e9ments que vous allez int\u00e9grer \u00e0 votre sc\u00e8ne. Pour le garder lisible, je vous conseille de mettre \u00e0 l'int\u00e9rieur des commentaires expliquant les \u00e9l\u00e9ments que vous disposez. Les commentaires commencent par le caract\u00e8re # "
     ]
    },
    {
     "cell_type": "code",
     "collapsed": false,
     "input": [
      "# Cr\u00e9ez votre programme ici\n",
      "\n",
      "# On pose le d\u00e9cor\n",
      "\n",
      "# On dessine l'\u00e9toile\n"
     ],
     "language": "python",
     "metadata": {},
     "outputs": []
    },
    {
     "cell_type": "markdown",
     "metadata": {},
     "source": [
      "Bien, il y a plus qu'une \u00e9toile dans le ciel ! vous allez donc placer 10 \u00e9toiles de taille al\u00e9atoire et \u00e0 des positions al\u00e9atoire.\n",
      "\n",
      "Pour la position, vous utiliserez bien sur encore la fonction ***randint()*** mais avec des bornes astucieusement choisies. Vous vous rappelez en effet que votre d\u00e9cord s'\u00e9tend\n",
      "- en largeur entre -400 et +400 ce qui fait 800 pas de large\n",
      "- en hauteur entre -300 et +300 ce qui fait 600 pas de haut.\n",
      "\n",
      "Mais attention, les \u00e9toiles sont dans le ciel ! je ne veut pas voir d'\u00e9toiles par terre..."
     ]
    },
    {
     "cell_type": "code",
     "collapsed": false,
     "input": [
      "# R\u00e9cup\u00e9rez votre d\u00e9cor de nuit et ajoutez une \u00e9toile de taille al\u00e9atoire\n"
     ],
     "language": "python",
     "metadata": {},
     "outputs": []
    },
    {
     "cell_type": "markdown",
     "metadata": {},
     "source": [
      "\u00e0 pr\u00e9sent vous ajouterez le sol de couleur marron (***brown***). Vous le placerez sur le quart inf\u00e9rieur du d\u00e9cor.\n",
      "\n",
      "***Conseil*** : pour \u00e9viter de redessiner toutes les \u00e9toiles \u00e0 chaque fois, ce qui prend du temps, vous pouvez les enlever provisoirement en mettant *0* dans la boucle ***for*** au lieu de 20. Nous les remettrons \u00e0 la fin, une fois le d\u00e9cor plant\u00e9."
     ]
    },
    {
     "cell_type": "code",
     "collapsed": false,
     "input": [
      "# R\u00e9cup\u00e9rez votre sc\u00e8ne pr\u00e9c\u00e9dente et ajoutez le sol\n"
     ],
     "language": "python",
     "metadata": {},
     "outputs": []
    },
    {
     "cell_type": "markdown",
     "metadata": {},
     "source": [
      "Ca commence \u00e0 prendre forme. Ajoutons \u00e0 pr\u00e9sent les immeubles. Les immeubles ont \n",
      "- ont une hauteur al\u00e9atoire entre 10 et 100 pas\n",
      "- ont une largeur de 30 pas\n",
      "- sont espac\u00e9s de 30 pas\n",
      "- sont de couleur grise (\"gray\")\n",
      "\n",
      "Observez la figure de d\u00e9part pour visualiser ce que l'on souhaite obtenir."
     ]
    },
    {
     "cell_type": "code",
     "collapsed": false,
     "input": [
      "# R\u00e9cup\u00e9rez votre sc\u00e8ne pr\u00e9c\u00e9dente et ajoutez les immeubles\n"
     ],
     "language": "python",
     "metadata": {},
     "outputs": []
    },
    {
     "cell_type": "markdown",
     "metadata": {},
     "source": [
      "F\u00e9licitations, vous avez rempli l'objectif principal. Vous pouvez si vous le souhaitez, agr\u00e9menter votre sc\u00e8ne, pourquoi pas en y ajoutant la lune !"
     ]
    },
    {
     "cell_type": "code",
     "collapsed": false,
     "input": [
      "# Agr\u00e9mentez votre sc\u00e8ne\n"
     ],
     "language": "python",
     "metadata": {},
     "outputs": []
    },
    {
     "cell_type": "code",
     "collapsed": false,
     "input": [],
     "language": "python",
     "metadata": {},
     "outputs": []
    }
   ],
   "metadata": {}
  }
 ]
}