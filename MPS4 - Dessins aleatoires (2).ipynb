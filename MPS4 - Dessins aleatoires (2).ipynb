{
 "metadata": {
  "name": "",
  "signature": "sha256:b0a5a0c241a56bdc8379252a562ded978c427df501f9fff8807818acb7ee053a"
 },
 "nbformat": 3,
 "nbformat_minor": 0,
 "worksheets": [
  {
   "cells": [
    {
     "cell_type": "heading",
     "level": 1,
     "metadata": {},
     "source": [
      "Des dessins al\u00e9atoires avec la tortue"
     ]
    },
    {
     "cell_type": "heading",
     "level": 1,
     "metadata": {},
     "source": [
      "Les nombres al\u00e9atoires"
     ]
    },
    {
     "cell_type": "markdown",
     "metadata": {},
     "source": [
      "En probabilit\u00e9, pour simuler le hasard, nous utilisons des **nombres al\u00e9atoires**. Ce sont des nombres calcul\u00e9s par la machine dont on ne peut pr\u00e9dire \u00e0 l'avance ce qu'ils seront."
     ]
    },
    {
     "cell_type": "heading",
     "level": 2,
     "metadata": {},
     "source": [
      "Nombre al\u00e9atoire entre 0 et 1"
     ]
    },
    {
     "cell_type": "markdown",
     "metadata": {},
     "source": [
      "Dans ce classeur, nous utiliserons des nombres d\u00e9cimaux al\u00e9atoires entre 0 et 1. Pour les calculer, c'est facile : regardez plut\u00f4t.\n",
      "\n",
      "N'h\u00e9sitez pas \u00e0 \u00e9valuer plusieurs fois la cellule ci-dessous pour constater que le r\u00e9sultat est toujours diff\u00e9rent !"
     ]
    },
    {
     "cell_type": "code",
     "collapsed": false,
     "input": [
      "from random import * # On importe les fonctions de hasard\n",
      "\n",
      "# On calcule un nombre al\u00e9atoire qu'on stocke dans la variable nombre\n",
      "nombre = random()\n",
      "\n",
      "print(nombre)"
     ],
     "language": "python",
     "metadata": {},
     "outputs": []
    },
    {
     "cell_type": "heading",
     "level": 3,
     "metadata": {},
     "source": [
      "A vous de jouer"
     ]
    },
    {
     "cell_type": "markdown",
     "metadata": {},
     "source": [
      "Pour vous assurer que les nombres choisis sont bien diff\u00e9rents, \u00e9crire un programme dans la cellule ci-dessous affichant 20 nombres al\u00e9atoires."
     ]
    },
    {
     "cell_type": "code",
     "collapsed": false,
     "input": [
      "# Taper votre programme ici\n"
     ],
     "language": "python",
     "metadata": {},
     "outputs": []
    },
    {
     "cell_type": "heading",
     "level": 1,
     "metadata": {},
     "source": [
      "Application \u00e0 la tortue"
     ]
    },
    {
     "cell_type": "markdown",
     "metadata": {},
     "source": [
      "Reprenons l'exemple ou notre tortue trace un carr\u00e9, mais cette fois-ci, le nombre de pas de notre tortue sera un nombre al\u00e9atoire entre 1 et 100.\n",
      "\n",
      "Comment fabriquer un tel nombre ? regardez c'est  tout simple."
     ]
    },
    {
     "cell_type": "code",
     "collapsed": false,
     "input": [
      "from random import *\n",
      "\n",
      "u=random() * 100\n",
      "\n",
      "print(\"Nombre al\u00e9atoire entre 1 et 100 : \",u)"
     ],
     "language": "python",
     "metadata": {},
     "outputs": []
    },
    {
     "cell_type": "markdown",
     "metadata": {},
     "source": [
      "Appliquons ce proc\u00e9d\u00e9 \u00e0 notre tortue :"
     ]
    },
    {
     "cell_type": "code",
     "collapsed": false,
     "input": [
      "from turtle import *\n",
      "from random import *\n",
      "\n",
      "speed(0) # on transforme notre tortue en li\u00e8vre :)\n",
      "shape('turtle') # On donne une forme plus sympathique\n",
      "\n",
      "for i in range(4):\n",
      "    u=random() * 100\n",
      "    forward(u)\n",
      "    left(90)\n",
      "    \n",
      "exitonclick()"
     ],
     "language": "python",
     "metadata": {},
     "outputs": []
    },
    {
     "cell_type": "heading",
     "level": 2,
     "metadata": {},
     "source": [
      "A vous de jouer"
     ]
    },
    {
     "cell_type": "markdown",
     "metadata": {},
     "source": [
      "Comme vous le voyez, notre carr\u00e9 n'est plus carr\u00e9. Vous allez maintenant modifier ce programme pour \u00e9laborer des figures plus complexes. Pour cela vous allez\n",
      "- Mettre un nombre de pas al\u00e9atoire entre 1 et 100\n",
      "- faire tourner notre tortue 30 fois \u00e0 gauche au lieu de 4 comme pr\u00e9c\u00e9demment\n",
      "- faire varier l'angle al\u00e9atoirement entre 0 et 90"
     ]
    },
    {
     "cell_type": "code",
     "collapsed": false,
     "input": [
      "from turtle import *\n",
      "from random import *\n",
      "\n",
      "# Ecrivez votre programme ici\n",
      "    \n",
      "exitonclick()"
     ],
     "language": "python",
     "metadata": {},
     "outputs": []
    },
    {
     "cell_type": "markdown",
     "metadata": {},
     "source": [
      "En ex\u00e9cutant plusieurs fois la cellule, vous verrez que le dessin change \u00e0 chaque fois ! Bon c'est un peu du gribouillage. Nous allons tenter de dessiner des motifs plus g\u00e9om\u00e9triques."
     ]
    },
    {
     "cell_type": "heading",
     "level": 2,
     "metadata": {},
     "source": [
      "D\u00e9couverte des tests Si ... Alors ... Sinon"
     ]
    },
    {
     "cell_type": "markdown",
     "metadata": {},
     "source": [
      "Pour faire des motifs plus g\u00e9om\u00e9trique, nous allons donner des ordres plus pr\u00e9cis \u00e0 notre tortue. Voici notre premier algorithme :\n",
      "<PRE>\n",
      "L'unit\u00e9 u est de 10 pas\n",
      "Pour k allant de 0 \u00e0 999 Faire\n",
      "    Avancer d'une unit\u00e9\n",
      "    r est un nombre al\u00e9atoire entre 0 et 1\n",
      "    Si r > 0.5 Alors\n",
      "        Tourner \u00e0 gauche de 90\u00b0\n",
      "    Sinon\n",
      "        Tourner \u00e0 droite de 90\u00b0\n",
      "</PRE>\n",
      "\n",
      "Remplacer les \"...\" par ce qui convient dans le programme ci-dessous pour ex\u00e9cuter l'algorithme ci-dessus"
     ]
    },
    {
     "cell_type": "code",
     "collapsed": false,
     "input": [
      "from turtle import *\n",
      "from random import *\n",
      "\n",
      "speed(0)\n",
      "shape('turtle') \n",
      "\n",
      "u=...\n",
      "\n",
      "for k in range(...) :\n",
      "    ...\n",
      "    ...\n",
      "    if (...condition...) :\n",
      "        ...instruction si condition est vraie...\n",
      "    else :\n",
      "        ...instruction si condition est fausse...\n",
      "\n",
      "\n",
      "exitonclick()"
     ],
     "language": "python",
     "metadata": {},
     "outputs": []
    },
    {
     "cell_type": "heading",
     "level": 2,
     "metadata": {},
     "source": [
      "La tortue ivre ..."
     ]
    },
    {
     "cell_type": "markdown",
     "metadata": {},
     "source": [
      "Dans l'exemple pr\u00e9c\u00e9dent, notre tortue tournait dans tous les sens, repassant r\u00e9guli\u00e8rement sur ses pas. Nous allons \u00e0 pr\u00e9sent simuler un autre comportement : celui de la tortue ivre...\n",
      "\n",
      "Notre tortue a anticip\u00e9 le r\u00e9veillon de no\u00ebl et s'est un peu l\u00e2ch\u00e9e sur la boisson. Elle doit donc rentrer \u00e0 pied mais ne marche plus droit. Elle avance r\u00e9guli\u00e8rement mais fait un pas \u00e0 gauche ou \u00e0 droite de mani\u00e8re al\u00e9atoire. On peut imaginer qu'elle avance selon la diagonale d'un carr\u00e9, un peu comme le pion sur un jeu d'\u00e9chec.\n",
      "\n",
      "Voici un exemple de parcours que nous allons essayer de simuler :\n",
      "![](http://s25.postimg.org/gnhozh70v/Capture_d_cran_2014_12_16_07_52_53.png)\n",
      "Compl\u00e9ter le programme ci-dessous pour simuler ce comportement en rempla\u00e7ant les **...** par ce qui convient "
     ]
    },
    {
     "cell_type": "code",
     "collapsed": false,
     "input": [
      "from turtle import *\n",
      "from random import *\n",
      "\n",
      "speed(0)\n",
      "shape('turtle') \n",
      "\n",
      "\n",
      "u=20\n",
      "penup()       # On se positionne\n",
      "goto(-300,0)  # sur la gauche de\n",
      "pendown()     # l'\u00e9cran\n",
      "\n",
      "for k in range(40) :  # On se d\u00e9place de 40 pas\n",
      "    r=random()\n",
      "    if (r>0.5) :\n",
      "        right(45)     # On se d\u00e9place\n",
      "        forward(u)    # en diagonale\n",
      "        left(45)      # On se remet droit pour le prochain mouvement\n",
      "    else :\n",
      "        ...           # A vous de compl\u00e9ter\n",
      "        ...\n",
      "        ...\n",
      "exitonclick()"
     ],
     "language": "python",
     "metadata": {},
     "outputs": []
    },
    {
     "cell_type": "markdown",
     "metadata": {},
     "source": [
      "Notre tortue arrive p\u00e9niblement \u00e0 avancer mais s'aper\u00e7oit qu'elle a oubli\u00e9 son portable ! elle doit faire demi-tour :@\n",
      "\n",
      "Elle va donc rebrousser chemin avec la m\u00eame difficult\u00e9 \u00e0 avancer. Vous allez donc simuler ce d\u00e9placement aller/retour. Pour rendre les choses plus lisibles, vous utiliserez des couleurs : \n",
      "- color('red') pour l'aller\n",
      "- color('green') pour le retour.\n",
      "\n",
      "Voici ce que vous devriez obtenir.\n",
      "\n",
      "***Conseil*** : pour \u00e9viter de dupliquer inutilement des lignes de programme, vous utiliserez une ***boucle for*** pour r\u00e9p\u00e9ter deux fois le trajet. Pensez \u00e0 faire demi tour \u00e0 la fin du premier trajet !\n",
      "![](http://s25.postimg.org/ex39bqevj/Capture_d_cran_2014_12_16_08_07_28.png)"
     ]
    },
    {
     "cell_type": "code",
     "collapsed": false,
     "input": [
      "from turtle import *\n",
      "from random import *\n",
      "\n",
      "# Ecrire votre programme ici\n",
      "\n",
      "exitonclick()"
     ],
     "language": "python",
     "metadata": {},
     "outputs": []
    },
    {
     "cell_type": "heading",
     "level": 2,
     "metadata": {},
     "source": [
      "Et pour les plus forts ..."
     ]
    },
    {
     "cell_type": "markdown",
     "metadata": {},
     "source": [
      "Pauvre tortue, il est bien peu probable qu'elle retrouve son portable. Par chance, elle poss\u00e8de un GPS dans sa *smartwatch* qui lui indique la distance du point de d\u00e9part \u00e0 son point d'arriv\u00e9e. Elle sait donc au final combien de pas la s\u00e9pare de son point de d\u00e9part. Vous alez recopier et compl\u00e9ter votre programme pour simuler ce *GPS* et afficher \u00e0 la fin du parcours le nombre de pas dont elle a d\u00e9vi\u00e9.\n",
      "\n",
      "Pour ce faire, vous pourrez utiliser une variable **GPS**\n",
      "- que vous initialiserez \u00e0 0\n",
      "- \u00e0 laquelle vous ajouterez **1** lorsque la tortue se d\u00e9place vers le haut\n",
      "- \u00e0 laquelle vous retrancherez **1** lorsque la tortue se d\u00e9place vers le bas\n",
      "\n",
      "***Attention*** : Entre l'aller et le retour, le d\u00e9placement vers le bas ne se fait pas forc\u00e9ment pareil ..."
     ]
    },
    {
     "cell_type": "code",
     "collapsed": false,
     "input": [
      "from turtle import *\n",
      "from random import *\n",
      "\n",
      "# Ecrire votre programme ici\n",
      "\n",
      "exitonclick()"
     ],
     "language": "python",
     "metadata": {},
     "outputs": []
    },
    {
     "cell_type": "heading",
     "level": 2,
     "metadata": {},
     "source": [
      "Et en bonus pour les super forts !"
     ]
    },
    {
     "cell_type": "markdown",
     "metadata": {},
     "source": [
      "La tortue est pers\u00e9v\u00e9rente. Elle va r\u00e9essayer de refaire le trajet jusqu'\u00e0 ce qu'elle retombe \u00e0 son point de d\u00e9part. Vous comptabiliserez le nombre total de tentatives avant le succ\u00e8s de l'op\u00e9ration.\n",
      "A chaque nouvelle tentative, la tortue reviendra a son point de d\u00e9part et l'\u00e9cran sera effac\u00e9 avec l'instruction **clear()**\n",
      "\n",
      "On utilisera ici un autre type de boucle : la boucle tant que. En python cela se pr\u00e9sente sous cette forme :\n",
      "<PRE>\n",
      "    while condition :\n",
      "        Bloc d'instructions\n",
      "        a \u00e9x\u00e9cuter dans la boucle\n",
      "        </PRE>"
     ]
    },
    {
     "cell_type": "code",
     "collapsed": false,
     "input": [
      "from turtle import *\n",
      "from random import *\n",
      "\n",
      "# Ecrire votre programme ici\n",
      "\n",
      "exitonclick()"
     ],
     "language": "python",
     "metadata": {},
     "outputs": []
    },
    {
     "cell_type": "markdown",
     "metadata": {},
     "source": [
      "Bingo ! elle a r\u00e9ussi au bout de 19 tentatives !\n",
      "![](http://s25.postimg.org/z5qmxge6n/Capture_d_cran_2014_12_16_08_35_46.png)"
     ]
    },
    {
     "cell_type": "code",
     "collapsed": false,
     "input": [],
     "language": "python",
     "metadata": {},
     "outputs": []
    }
   ],
   "metadata": {}
  }
 ]
}