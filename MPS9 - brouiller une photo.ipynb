{
 "metadata": {
  "name": "",
  "signature": "sha256:b1d8e4cfe7498481942c77eaabd8b1d899f9ae6a7776b26b129802c6efe36ab3"
 },
 "nbformat": 3,
 "nbformat_minor": 0,
 "worksheets": [
  {
   "cells": [
    {
     "cell_type": "heading",
     "level": 1,
     "metadata": {},
     "source": [
      "MPS9 - Brouiller une photo"
     ]
    },
    {
     "cell_type": "markdown",
     "metadata": {},
     "source": [
      "Pour \u00e9viter de saisir l'import des librairies image dans chaque cellule du classeur, nous les importons une fois pour toute dans ce classeur en validant la cellule suivante :"
     ]
    },
    {
     "cell_type": "code",
     "collapsed": false,
     "input": [
      "%pylab inline\n",
      "from PIL import *"
     ],
     "language": "python",
     "metadata": {},
     "outputs": []
    },
    {
     "cell_type": "code",
     "collapsed": false,
     "input": [
      "# On charge le fichier JPG qui doit se trouver dans le m\u00eame dossier que le classeur MPS\n",
      "joconde=Image.open('monalisa_256.jpg')\n",
      "\n",
      "l,h=joconde.size\n",
      "\n",
      "# On affiche l'image ainsi charg\u00e9e\n",
      "imshow(joconde)"
     ],
     "language": "python",
     "metadata": {},
     "outputs": []
    },
    {
     "cell_type": "heading",
     "level": 2,
     "metadata": {},
     "source": [
      "La transformation du Photomaton !"
     ]
    },
    {
     "cell_type": "markdown",
     "metadata": {},
     "source": [
      "L\u2019image utilis\u00e9e comporte 256 lignes et 256 colonnes num\u00e9rot\u00e9es de 0 \u00e0 255. La transformation du photomaton consiste \u00e0 r\u00e9aliser l\u2019op\u00e9ration suivante sur les num\u00e9ros des lignes : on prend les lignes de rang pair qu\u2019on fait suivre de celles de num\u00e9ro impair. De m\u00eame, pour les num\u00e9ros des colonnes \u2014 cela explique l\u2019apparition de quatre versions en plus petit de l\u2019image initiale. Le pixel (0, 0) reste donc en position (0, 0) ; le pixel (1, 0) passe en position (128, 0) ; le pixel en position (1, 1) passe en position (128, 128) ; le pixel en position (4, 5) passe en position (2, 130), etc. (pour un num\u00e9ro pair 2k on passe \u00e0 k, pour un num\u00e9ro impair 2k + 1 on passe \u00e0 128 + k).\n",
      "\n",
      "<IMG src=\"https://interstices.info/upload/mona-lisa/transfo-photomaton.gif\">\n",
      "\n",
      "La r\u00e9alisation de cette transformation du Photomaton n'est pas tr\u00e8s compliqu\u00e9e \u00e0 faire en Python mais cela n\u00e9cessite de ma\u00eetriser un peu l'algorithmique et la programmation Python. Je vous donne donc la fonction permettant d'appliquer la transformation sur une image.\n",
      "\n",
      "Validez simplement la cellule ci-dessous pour apprendre \u00e0 Python la transformation du Photomaton"
     ]
    },
    {
     "cell_type": "code",
     "collapsed": false,
     "input": [
      "def photomaton(img):\n",
      "    l,h=img.size\n",
      "    newimg=Image.new(\"RGB\",(l,h),0)\n",
      "    for y in range(h):\n",
      "        for x in range(l):\n",
      "            P=img.getpixel((x,y))\n",
      "            if x%2==0 and y%2==0:  # x et y sont pairs\n",
      "                newimg.putpixel((x//2,y//2),P)\n",
      "            elif x%2==0:           # x est pair et y impair \n",
      "                newimg.putpixel((x//2,h//2+y//2),P)\n",
      "            elif y%2==0:           # x est impair et y pair\n",
      "                newimg.putpixel((l//2+x//2,y//2),P)\n",
      "            else:                  # x et y sont impairs\n",
      "                newimg.putpixel((l//2+x//2,h//2+y//2),P)\n",
      "    return newimg"
     ],
     "language": "python",
     "metadata": {},
     "outputs": []
    },
    {
     "cell_type": "markdown",
     "metadata": {},
     "source": [
      "testons \u00e0 pr\u00e9sent notre transformation sur notre joconde :"
     ]
    },
    {
     "cell_type": "code",
     "collapsed": false,
     "input": [
      "newjoconde=photomaton(joconde)\n",
      "imshow(newjoconde)"
     ],
     "language": "python",
     "metadata": {},
     "outputs": []
    },
    {
     "cell_type": "markdown",
     "metadata": {},
     "source": [
      "Sur cette image, nous avons l'impression qu'il s'agit d'une copie de 4 images identiques. En r\u00e9alit\u00e9, il n'en est rien : il y a de petites diff\u00e9rences entre ces 4 images car nous avons d\u00e9plac\u00e9 les pixels adjacents au 4 coins de l'image."
     ]
    },
    {
     "cell_type": "heading",
     "level": 2,
     "metadata": {},
     "source": [
      "A vous de jouer"
     ]
    },
    {
     "cell_type": "markdown",
     "metadata": {},
     "source": [
      "R\u00e9p\u00e9tez successivement 8 fois la transformation du photomaton sur notre image de joconde. Affichez \u00e0 chaque fois l'image obtenue, \u00e0 la mani\u00e8re de l'exemple que nous venons de faire."
     ]
    },
    {
     "cell_type": "code",
     "collapsed": false,
     "input": [
      "# transformation 1\n"
     ],
     "language": "python",
     "metadata": {},
     "outputs": []
    },
    {
     "cell_type": "code",
     "collapsed": false,
     "input": [
      "# transformation 2"
     ],
     "language": "python",
     "metadata": {},
     "outputs": []
    },
    {
     "cell_type": "code",
     "collapsed": false,
     "input": [
      "# transformation 3"
     ],
     "language": "python",
     "metadata": {},
     "outputs": []
    },
    {
     "cell_type": "code",
     "collapsed": false,
     "input": [
      "# transformation 4"
     ],
     "language": "python",
     "metadata": {},
     "outputs": []
    },
    {
     "cell_type": "code",
     "collapsed": false,
     "input": [
      "# transformation 5"
     ],
     "language": "python",
     "metadata": {},
     "outputs": []
    },
    {
     "cell_type": "code",
     "collapsed": false,
     "input": [
      "# transformation 6"
     ],
     "language": "python",
     "metadata": {},
     "outputs": []
    },
    {
     "cell_type": "code",
     "collapsed": false,
     "input": [
      "# transformation 7"
     ],
     "language": "python",
     "metadata": {},
     "outputs": []
    },
    {
     "cell_type": "code",
     "collapsed": false,
     "input": [
      "# transformation 8"
     ],
     "language": "python",
     "metadata": {},
     "outputs": []
    },
    {
     "cell_type": "markdown",
     "metadata": {},
     "source": [
      "Incroyable ! Apr\u00e8s s'\u00eatre totalement brouill\u00e9e, notre image a r\u00e9apparu intacte. L'\u00e9tape 6 semble \u00eatre celle ou l'image est la plus brouill\u00e9e. Deux \u00e9tapes plus tard, elle est totalement reconstitu\u00e9e.\n",
      "\n",
      "Nous allons pouvoir utiliser ce proc\u00e9d\u00e9 pour brouiller une image et la reconstituer.\n",
      "\n",
      "Compl\u00e9ter la cellule ci-dessous en rempla\u00e7ant les ... par ce qui convient :"
     ]
    },
    {
     "cell_type": "code",
     "collapsed": false,
     "input": [
      "# fonction permettant de brouiller une image\n",
      "\n",
      "def brouiller(image):\n",
      "    for i in range(...):\n",
      "        image=photomaton(image)\n",
      "    return image\n"
     ],
     "language": "python",
     "metadata": {},
     "outputs": []
    },
    {
     "cell_type": "markdown",
     "metadata": {},
     "source": [
      "Testons notre brouilleur sur la joconde :"
     ]
    },
    {
     "cell_type": "code",
     "collapsed": false,
     "input": [
      "joconde1=brouiller(joconde)\n",
      "imshow(joconde1)"
     ],
     "language": "python",
     "metadata": {},
     "outputs": []
    },
    {
     "cell_type": "markdown",
     "metadata": {},
     "source": [
      "Sur le m\u00eame principe, compl\u00e9tez la fonction suivante permettant de d\u00e9brouiller une image :"
     ]
    },
    {
     "cell_type": "code",
     "collapsed": false,
     "input": [
      "# fonction permettant de d\u00e9brouiller une image\n",
      "\n",
      "def debrouiller(image):\n",
      "    for ...\n",
      "        ...\n",
      "    return image\n"
     ],
     "language": "python",
     "metadata": {},
     "outputs": []
    },
    {
     "cell_type": "markdown",
     "metadata": {},
     "source": [
      "Testons notre fonction de d\u00e9brouillage :"
     ]
    },
    {
     "cell_type": "code",
     "collapsed": false,
     "input": [
      "joconde2=debrouiller(joconde1)\n",
      "imshow(joconde2)"
     ],
     "language": "python",
     "metadata": {},
     "outputs": []
    },
    {
     "cell_type": "heading",
     "level": 2,
     "metadata": {},
     "source": [
      "A vous de jouer"
     ]
    },
    {
     "cell_type": "code",
     "collapsed": false,
     "input": [
      "# On charge le fichier JPG qui doit se trouver dans le m\u00eame dossier que le classeur MPS\n",
      "monimage=Image.open('image_crypt.png')\n",
      "\n",
      "# On affiche l'image ainsi charg\u00e9e\n",
      "imshow(monimage)"
     ],
     "language": "python",
     "metadata": {},
     "outputs": []
    },
    {
     "cell_type": "markdown",
     "metadata": {},
     "source": [
      "Saurez-vous d\u00e9brouiller cette image ?"
     ]
    },
    {
     "cell_type": "code",
     "collapsed": false,
     "input": [],
     "language": "python",
     "metadata": {},
     "outputs": []
    },
    {
     "cell_type": "heading",
     "level": 2,
     "metadata": {},
     "source": [
      "Un dernier challenge"
     ]
    },
    {
     "cell_type": "markdown",
     "metadata": {},
     "source": [
      "Saurez-vous d\u00e9coder cette image ?"
     ]
    },
    {
     "cell_type": "code",
     "collapsed": false,
     "input": [
      "# On charge le fichier JPG qui doit se trouver dans le m\u00eame dossier que le classeur MPS\n",
      "monimage=Image.open('image2_crypt.png')\n",
      "\n",
      "# On affiche l'image ainsi charg\u00e9e\n",
      "imshow(monimage)"
     ],
     "language": "python",
     "metadata": {},
     "outputs": []
    },
    {
     "cell_type": "code",
     "collapsed": false,
     "input": [],
     "language": "python",
     "metadata": {},
     "outputs": []
    },
    {
     "cell_type": "heading",
     "level": 2,
     "metadata": {},
     "source": [
      "Amusez-vous"
     ]
    },
    {
     "cell_type": "markdown",
     "metadata": {},
     "source": [
      "R\u00e9cup\u00e9rez une image sur votre t\u00e9l\u00e9phone au format carr\u00e9 256x256 pixels. Brouillez-la puis envoyez-la \u00e0 un camarade pour qu'il puisse la d\u00e9brouiller."
     ]
    },
    {
     "cell_type": "code",
     "collapsed": false,
     "input": [],
     "language": "python",
     "metadata": {},
     "outputs": []
    },
    {
     "cell_type": "markdown",
     "metadata": {},
     "source": [
      "Vous aurez remarqu\u00e9 que si l'image ne fait pas 256x256 mais 512x512, il faudra une \u00e9tape de plus pour revenir sur ses pieds.\n",
      "\n",
      "Essayez la transformation avec une image rectangulaire de 512x256 pixels. Au bout de combien d'\u00e9tapes revient-ton sur l'image d'origine ?"
     ]
    },
    {
     "cell_type": "code",
     "collapsed": false,
     "input": [],
     "language": "python",
     "metadata": {},
     "outputs": []
    }
   ],
   "metadata": {}
  }
 ]
}